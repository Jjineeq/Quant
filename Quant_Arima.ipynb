{
 "cells": [
  {
   "cell_type": "code",
   "execution_count": 23,
   "metadata": {},
   "outputs": [],
   "source": [
    "import pandas as pd\n",
    "import numpy as np\n",
    "from datetime import datetime\n",
    "from pandas import to_datetime\n",
    "import matplotlib.pyplot as plt\n",
    "import time\n",
    "import seaborn as sns\n",
    "import pmdarima as pm\n",
    "from pmdarima.model_selection import train_test_split\n",
    "\n",
    "\n",
    "from statsmodels.tsa.arima_model import ARIMA\n",
    "from statsmodels.tsa.api import ExponentialSmoothing, SimpleExpSmoothing, Holt\n",
    "from sklearn.metrics import mean_squared_error\n",
    "from sklearn.linear_model import LinearRegression\n",
    "from sklearn import linear_model\n",
    "\n",
    "import warnings\n",
    "warnings.filterwarnings('ignore')\n",
    "from tqdm import tqdm\n",
    "plt.rcParams['font.family'] ='Malgun Gothic'\n",
    "plt.rcParams['axes.unicode_minus'] =False"
   ]
  },
  {
   "cell_type": "code",
   "execution_count": 2,
   "metadata": {},
   "outputs": [],
   "source": [
    "df = pd.read_csv(\"C:/Users/User/github/Quant/data/kospi_category.csv\", encoding='cp949')\n",
    "start_date = '2004-01'\n",
    "end_date = '2020-03'\n",
    " \n",
    "df['time'] = pd.date_range(start_date,end_date,freq='m')\n",
    "df.drop('date',axis=1, inplace=True)\n",
    "df.set_index('time', inplace=True) "
   ]
  },
  {
   "cell_type": "code",
   "execution_count": 3,
   "metadata": {},
   "outputs": [
    {
     "name": "stdout",
     "output_type": "stream",
     "text": [
      "X_train Shape (180, 22)\n",
      "X_Valid Shape (14, 22)\n"
     ]
    }
   ],
   "source": [
    "# train 데이터와 validation 데이터 나누기.\n",
    "X_train = df[df.index < '2019-01-01']\n",
    "X_valid = df[df.index >= '2019-01-01']\n",
    "\n",
    "# 각 데이터의 사이즈 확인하기\n",
    "print('X_train Shape', X_train.shape)\n",
    "print('X_Valid Shape', X_valid.shape)"
   ]
  },
  {
   "cell_type": "markdown",
   "metadata": {},
   "source": [
    "import itertools\n",
    "p=d=q=range(0,5)\n",
    "pdq = list(itertools.product(p,d,q))\n",
    "\n",
    "for param in pdq:\n",
    "    try:\n",
    "        model_arima = ARIMA(df.iloc[:,1],order=param)\n",
    "        model_arima_fit = model_arima.fit()\n",
    "        print(param,model_arima_fit.aic)\n",
    "    except:\n",
    "        continue"
   ]
  },
  {
   "attachments": {},
   "cell_type": "markdown",
   "metadata": {},
   "source": [
    "# Moving Window X\n",
    "# Auto-ARIMA 돌리기 - 계측값이 일별이면 m=1, 월별이면 m=12, 주별이면 m=52, \n",
    "# 계절성이 있는 데이터면 seasonal=True 로 바꿔야함. 알아서 d 값을 찾아줌.\n",
    "arima_result = []\n",
    "for i in tqdm(range(len(df.columns))):\n",
    "    auto_arima_model = pm.auto_arima(y = X_train.iloc[:,i],\n",
    "              start_P=0,\n",
    "              max_p= 3,\n",
    "              start_q = 0,\n",
    "              max_q = 3,\n",
    "              m = 12,\n",
    "              seasonal=True,\n",
    "              stepwise= False,\n",
    "              trace= True)\n",
    "    \n",
    "    fcast2 = auto_arima_model.predict(14) \n",
    "    fcast2 = pd.Series(fcast2, index = X_valid.index)\n",
    "    fcast2 = fcast2.rename(\"Auto Arima\")\n",
    "    fig, ax = plt.subplots(figsize=(15,5))\n",
    "    chart = sns.lineplot(data = pd.DataFrame(X_train.iloc[:,i]))\n",
    "    \n",
    "    chart.set_title(df.columns[i]+' Auto Arima')\n",
    "    \n",
    "    fcast2.plot(ax=ax, color='red', marker=\"o\")\n",
    "    plt.plot(X_valid.iloc[:,i], color = 'blue', marker = 'o')\n",
    "    plt.title(df.columns[i])\n",
    "    plt.legend()\n",
    "    plt.savefig(\"C:/Users/User/github/Quant/data/\"+df.columns[i]+\" AutoArima_seasonal_O.png\")\n",
    "    print(df.columns[i]+' The MSE of auto-arima is:', mean_squared_error(X_valid.iloc[:,i].values, fcast2.values))\n",
    "    arima_result.append( mean_squared_error(X_valid.iloc[:,i].values, fcast2.values))\n",
    "    "
   ]
  },
  {
   "cell_type": "code",
   "execution_count": null,
   "metadata": {},
   "outputs": [],
   "source": [
    "# Moving Window 적용\n",
    "# Auto-ARIMA 돌리기 - 계측값이 일별이면 m=1, 월별이면 m=12, 주별이면 m=52, \n",
    "# 계절성이 있는 데이터면 seasonal=True 로 바꿔야함. 알아서 d 값을 찾아줌\n",
    "arima_result = []\n",
    "for i in tqdm(range(len(df.columns))):\n",
    "    predictions = list()\n",
    "    history = [x for x in X_train.iloc[:,i]]\n",
    "    for t in range(len(X_valid.iloc[:,t])):\n",
    "        model = pm.auto_arima(y = history,\n",
    "                start_P=0,\n",
    "                max_p= 3,\n",
    "                start_q = 0,\n",
    "                max_q = 3,\n",
    "                m = 12,\n",
    "                seasonal=True,\n",
    "                stepwise= False,\n",
    "                trace= True)\n",
    "        output = model.predict()\n",
    "        yhat = output[0]\n",
    "        predictions.append(yhat)\n",
    "        obs = X_valid.iloc[:,i][t]\n",
    "        history.append(obs)\n",
    "    \n",
    "    predictions = pd.Series(predictions, index = X_valid.index)\n",
    "\n",
    "    chart = sns.lineplot(data = pd.DataFrame(X_train.iloc[:,i]))\n",
    "    chart.set_title(df.columns[i]+' Auto Arima')\n",
    "\n",
    "    plt.plot(X_train.iloc[:,i], color='blue')\n",
    "    plt.plot(predictions, color = 'red', marker = 'o')\n",
    "    plt.plot(X_valid.iloc[:,i], color = 'blue', marker = 'o')\n",
    "    plt.title(df.columns[i])\n",
    "    plt.legend()\n",
    "    plt.savefig(\"C:/Users/User/github/Quant/data/\"+df.columns[i]+\" moving_window.png\")\n",
    "    print(df.columns[i]+' The MSE of auto-arima is:', mean_squared_error(X_valid.iloc[:,i].values, predictions))\n",
    "    arima_result.append( mean_squared_error(X_valid.iloc[:,i].values, predictions))\n",
    "    plt.clf()\n",
    "    "
   ]
  },
  {
   "attachments": {},
   "cell_type": "markdown",
   "metadata": {},
   "source": [
    "#### 계절성 O : 제조, 섬유의복, 종이목재, 화학, 비금속광물, 철강금속, 전기전자, 운수장비, 전기가스업, 건설업, 운수창고업, 금융업, 은행, 보험\n",
    "#### 계절성 X : 음식료품, 의약품, 기계, 의료정밀, 유통업, 통신업, 증권, 서비스업"
   ]
  },
  {
   "cell_type": "code",
   "execution_count": null,
   "metadata": {},
   "outputs": [],
   "source": []
  }
 ],
 "metadata": {
  "kernelspec": {
   "display_name": "base",
   "language": "python",
   "name": "python3"
  },
  "language_info": {
   "codemirror_mode": {
    "name": "ipython",
    "version": 3
   },
   "file_extension": ".py",
   "mimetype": "text/x-python",
   "name": "python",
   "nbconvert_exporter": "python",
   "pygments_lexer": "ipython3",
   "version": "3.9.15 (main, Nov  4 2022, 16:35:55) [MSC v.1916 64 bit (AMD64)]"
  },
  "orig_nbformat": 4,
  "vscode": {
   "interpreter": {
    "hash": "a077222d77dfe082b8f1dd562ad70e458ac2ab76993a0b248ab0476e32e9e8dd"
   }
  }
 },
 "nbformat": 4,
 "nbformat_minor": 2
}

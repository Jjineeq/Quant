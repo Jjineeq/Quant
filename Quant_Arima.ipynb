{
 "cells": [
  {
   "cell_type": "code",
   "execution_count": 1,
   "metadata": {},
   "outputs": [],
   "source": [
    "import pandas as pd\n",
    "import numpy as np\n",
    "from datetime import datetime\n",
    "from pandas import to_datetime\n",
    "import matplotlib.pyplot as plt\n",
    "import time\n",
    "import seaborn as sns\n",
    "import pmdarima as pm\n",
    "from pmdarima.model_selection import train_test_split\n",
    "\n",
    "\n",
    "from statsmodels.tsa.arima_model import ARIMA\n",
    "from statsmodels.tsa.api import ExponentialSmoothing, SimpleExpSmoothing, Holt\n",
    "from sklearn.metrics import mean_squared_error\n",
    "from sklearn.linear_model import LinearRegression\n",
    "from sklearn import linear_model\n",
    "from sklearn.metrics import r2_score\n",
    "\n",
    "import warnings\n",
    "warnings.filterwarnings('ignore')\n",
    "from tqdm import tqdm\n",
    "plt.rcParams['font.family'] ='Malgun Gothic'\n",
    "plt.rcParams['axes.unicode_minus'] =False"
   ]
  },
  {
   "cell_type": "code",
   "execution_count": 2,
   "metadata": {},
   "outputs": [],
   "source": [
    "df = pd.read_csv(\"C:/Users/User/github/Quant/data/kospi_category.csv\", encoding='cp949')\n",
    "start_date = '2004-01'\n",
    "end_date = '2020-03'\n",
    " \n",
    "df['time'] = pd.date_range(start_date,end_date,freq='m')\n",
    "df.drop('date',axis=1, inplace=True)\n",
    "df.set_index('time', inplace=True) "
   ]
  },
  {
   "cell_type": "code",
   "execution_count": 3,
   "metadata": {},
   "outputs": [
    {
     "name": "stdout",
     "output_type": "stream",
     "text": [
      "X_train Shape (180, 22)\n",
      "X_Valid Shape (14, 22)\n"
     ]
    }
   ],
   "source": [
    "# train 데이터와 validation 데이터 나누기.\n",
    "X_train = df[df.index < '2019-01-01']\n",
    "X_valid = df[df.index >= '2019-01-01']\n",
    "\n",
    "# 각 데이터의 사이즈 확인하기\n",
    "print('X_train Shape', X_train.shape)\n",
    "print('X_Valid Shape', X_valid.shape)"
   ]
  },
  {
   "attachments": {},
   "cell_type": "markdown",
   "metadata": {},
   "source": [
    "# Moving Window X\n",
    "# Auto-ARIMA 돌리기 - 계측값이 일별이면 m=1, 월별이면 m=12, 주별이면 m=52, \n",
    "# 계절성이 있는 데이터면 seasonal=True 로 바꿔야함. 알아서 d 값을 찾아줌.\n",
    "arima_result = []\n",
    "for i in tqdm(range(len(df.columns))):\n",
    "    auto_arima_model = pm.auto_arima(y = X_train.iloc[:,i],\n",
    "              start_P=0,\n",
    "              max_p= 3,\n",
    "              start_q = 0,\n",
    "              max_q = 3,\n",
    "              m = 12,\n",
    "              seasonal=True,\n",
    "              stepwise= False,\n",
    "              trace= True)\n",
    "    \n",
    "    fcast2 = auto_arima_model.predict(14) \n",
    "    fcast2 = pd.Series(fcast2, index = X_valid.index)\n",
    "    fcast2 = fcast2.rename(\"Auto Arima\")\n",
    "    fig, ax = plt.subplots(figsize=(15,5))\n",
    "    chart = sns.lineplot(data = pd.DataFrame(X_train.iloc[:,i]))\n",
    "    \n",
    "    chart.set_title(df.columns[i]+' Auto Arima')\n",
    "    \n",
    "    fcast2.plot(ax=ax, color='red', marker=\"o\")\n",
    "    plt.plot(X_valid.iloc[:,i], color = 'blue', marker = 'o')\n",
    "    plt.title(df.columns[i])\n",
    "    plt.legend()\n",
    "    plt.savefig(\"C:/Users/User/github/Quant/data/\"+df.columns[i]+\" AutoArima_seasonal_O.png\")\n",
    "    print(df.columns[i]+' The MSE of auto-arima is:', mean_squared_error(X_valid.iloc[:,i].values, fcast2.values))\n",
    "    arima_result.append( mean_squared_error(X_valid.iloc[:,i].values, fcast2.values))\n",
    "    "
   ]
  },
  {
   "cell_type": "code",
   "execution_count": 40,
   "metadata": {},
   "outputs": [
    {
     "name": "stderr",
     "output_type": "stream",
     "text": [
      "  5%|▍         | 1/22 [00:03<01:12,  3.45s/it]"
     ]
    },
    {
     "name": "stdout",
     "output_type": "stream",
     "text": [
      "제조업 The MSE of auto-arima is: 69869.70982860656\n"
     ]
    },
    {
     "name": "stderr",
     "output_type": "stream",
     "text": [
      "  9%|▉         | 2/22 [00:09<01:38,  4.90s/it]"
     ]
    },
    {
     "name": "stdout",
     "output_type": "stream",
     "text": [
      "음식료품 The MSE of auto-arima is: 27459.132002179493\n"
     ]
    },
    {
     "name": "stderr",
     "output_type": "stream",
     "text": [
      " 14%|█▎        | 3/22 [00:27<03:31, 11.15s/it]"
     ]
    },
    {
     "name": "stdout",
     "output_type": "stream",
     "text": [
      "섬유의복 The MSE of auto-arima is: 340.3941407726872\n"
     ]
    },
    {
     "name": "stderr",
     "output_type": "stream",
     "text": [
      " 18%|█▊        | 4/22 [00:44<03:59, 13.29s/it]"
     ]
    },
    {
     "name": "stdout",
     "output_type": "stream",
     "text": [
      "종이목재 The MSE of auto-arima is: 322.3109007912225\n"
     ]
    },
    {
     "name": "stderr",
     "output_type": "stream",
     "text": [
      " 23%|██▎       | 5/22 [01:05<04:32, 16.04s/it]"
     ]
    },
    {
     "name": "stdout",
     "output_type": "stream",
     "text": [
      "화학 The MSE of auto-arima is: 52369.164343943434\n"
     ]
    },
    {
     "name": "stderr",
     "output_type": "stream",
     "text": [
      " 27%|██▋       | 6/22 [01:08<03:07, 11.72s/it]"
     ]
    },
    {
     "name": "stdout",
     "output_type": "stream",
     "text": [
      "의약품 The MSE of auto-arima is: 747592.3807111912\n"
     ]
    },
    {
     "name": "stderr",
     "output_type": "stream",
     "text": [
      " 32%|███▏      | 7/22 [01:12<02:14,  8.99s/it]"
     ]
    },
    {
     "name": "stdout",
     "output_type": "stream",
     "text": [
      "비금속광물 The MSE of auto-arima is: 6243.490142857142\n"
     ]
    },
    {
     "name": "stderr",
     "output_type": "stream",
     "text": [
      " 36%|███▋      | 8/22 [01:15<01:41,  7.27s/it]"
     ]
    },
    {
     "name": "stdout",
     "output_type": "stream",
     "text": [
      "철강금속 The MSE of auto-arima is: 50520.88653571437\n"
     ]
    },
    {
     "name": "stderr",
     "output_type": "stream",
     "text": [
      " 41%|████      | 9/22 [01:24<01:41,  7.82s/it]"
     ]
    },
    {
     "name": "stdout",
     "output_type": "stream",
     "text": [
      "기계 The MSE of auto-arima is: 2129.5578247919557\n"
     ]
    },
    {
     "name": "stderr",
     "output_type": "stream",
     "text": [
      " 45%|████▌     | 10/22 [01:34<01:42,  8.53s/it]"
     ]
    },
    {
     "name": "stdout",
     "output_type": "stream",
     "text": [
      "전기전자 The MSE of auto-arima is: 1477329.6240609905\n"
     ]
    },
    {
     "name": "stderr",
     "output_type": "stream",
     "text": [
      " 50%|█████     | 11/22 [01:41<01:27,  7.91s/it]"
     ]
    },
    {
     "name": "stdout",
     "output_type": "stream",
     "text": [
      "의료정밀 The MSE of auto-arima is: 63773.103645548916\n"
     ]
    },
    {
     "name": "stderr",
     "output_type": "stream",
     "text": [
      " 55%|█████▍    | 12/22 [01:44<01:05,  6.56s/it]"
     ]
    },
    {
     "name": "stdout",
     "output_type": "stream",
     "text": [
      "운수장비 The MSE of auto-arima is: 9970.688257142854\n"
     ]
    },
    {
     "name": "stderr",
     "output_type": "stream",
     "text": [
      " 59%|█████▉    | 13/22 [01:48<00:51,  5.71s/it]"
     ]
    },
    {
     "name": "stdout",
     "output_type": "stream",
     "text": [
      "유통업 The MSE of auto-arima is: 377.6617142857145\n"
     ]
    },
    {
     "name": "stderr",
     "output_type": "stream",
     "text": [
      " 64%|██████▎   | 14/22 [02:00<01:01,  7.64s/it]"
     ]
    },
    {
     "name": "stdout",
     "output_type": "stream",
     "text": [
      "전기가스업 The MSE of auto-arima is: 4172.637973101524\n"
     ]
    },
    {
     "name": "stderr",
     "output_type": "stream",
     "text": [
      " 68%|██████▊   | 15/22 [02:03<00:42,  6.03s/it]"
     ]
    },
    {
     "name": "stdout",
     "output_type": "stream",
     "text": [
      "건설업 The MSE of auto-arima is: 46.83447857142857\n"
     ]
    },
    {
     "name": "stderr",
     "output_type": "stream",
     "text": [
      " 73%|███████▎  | 16/22 [02:06<00:31,  5.17s/it]"
     ]
    },
    {
     "name": "stdout",
     "output_type": "stream",
     "text": [
      "운수창고업 The MSE of auto-arima is: 5325.152799999994\n"
     ]
    },
    {
     "name": "stderr",
     "output_type": "stream",
     "text": [
      " 77%|███████▋  | 17/22 [02:10<00:24,  4.96s/it]"
     ]
    },
    {
     "name": "stdout",
     "output_type": "stream",
     "text": [
      "통신업 The MSE of auto-arima is: 147.387692857143\n"
     ]
    },
    {
     "name": "stderr",
     "output_type": "stream",
     "text": [
      " 82%|████████▏ | 18/22 [02:16<00:21,  5.31s/it]"
     ]
    },
    {
     "name": "stdout",
     "output_type": "stream",
     "text": [
      "금융업 The MSE of auto-arima is: 446.9439438248499\n"
     ]
    },
    {
     "name": "stderr",
     "output_type": "stream",
     "text": [
      " 86%|████████▋ | 19/22 [02:21<00:15,  5.13s/it]"
     ]
    },
    {
     "name": "stdout",
     "output_type": "stream",
     "text": [
      "은행 The MSE of auto-arima is: 216.8268930724078\n"
     ]
    },
    {
     "name": "stderr",
     "output_type": "stream",
     "text": [
      " 91%|█████████ | 20/22 [02:27<00:10,  5.44s/it]"
     ]
    },
    {
     "name": "stdout",
     "output_type": "stream",
     "text": [
      "증권 The MSE of auto-arima is: 9795.285586404472\n"
     ]
    },
    {
     "name": "stderr",
     "output_type": "stream",
     "text": [
      " 95%|█████████▌| 21/22 [02:37<00:06,  6.79s/it]"
     ]
    },
    {
     "name": "stdout",
     "output_type": "stream",
     "text": [
      "보험 The MSE of auto-arima is: 837589.1403827695\n"
     ]
    },
    {
     "name": "stderr",
     "output_type": "stream",
     "text": [
      "100%|██████████| 22/22 [02:41<00:00,  7.34s/it]"
     ]
    },
    {
     "name": "stdout",
     "output_type": "stream",
     "text": [
      "서비스업 The MSE of auto-arima is: 1226.7039571428556\n"
     ]
    },
    {
     "name": "stderr",
     "output_type": "stream",
     "text": [
      "\n"
     ]
    },
    {
     "data": {
      "text/plain": [
       "<Figure size 640x480 with 0 Axes>"
      ]
     },
     "metadata": {},
     "output_type": "display_data"
    }
   ],
   "source": [
    "# Moving Window 적용\n",
    "# Auto-ARIMA 돌리기 - 계측값이 일별이면 m=1, 월별이면 m=12, 주별이면 m=52, \n",
    "# 계절성이 있는 데이터면 seasonal=True 로 바꿔야함. 알아서 d 값을 찾아줌\n",
    "arima_result = []\n",
    "arima_result_2 = []\n",
    "arima_result_3 = []\n",
    "arima_val = []\n",
    "for i in tqdm(range(len(df.columns))):\n",
    "    predictions = list()\n",
    "    history = [x for x in X_train.iloc[:,i]]\n",
    "    for t in range(len(X_valid)):\n",
    "        model = pm.auto_arima(y = history)\n",
    "        output = model.predict()\n",
    "        yhat = output[0]\n",
    "        predictions.append(yhat)\n",
    "        obs = X_valid.iloc[:,i][t]\n",
    "        history.append(obs)\n",
    "    \n",
    "    predictions = pd.Series(predictions, index = X_valid.index)\n",
    "\n",
    "    chart = sns.lineplot(data = pd.DataFrame(X_train.iloc[:,i]))\n",
    "    chart.set_title(df.columns[i]+' Auto Arima')\n",
    "\n",
    "    plt.plot(X_train.iloc[:,i], color='blue')\n",
    "    plt.plot(predictions, color = 'red')\n",
    "    plt.plot(X_valid.iloc[:,i], color = 'blue')\n",
    "    plt.title(df.columns[i])\n",
    "    plt.legend()\n",
    "    plt.savefig(\"C:/Users/User/github/Quant/data/\"+df.columns[i]+\" moving_window.png\")\n",
    "    print(df.columns[i]+' The MSE of auto-arima is:', mean_squared_error(X_valid.iloc[:,i].values, predictions))\n",
    "    arima_result.append( mean_squared_error(X_valid.iloc[:,i].values, predictions))\n",
    "    arima_result_2.append(model.summary())\n",
    "    arima_result_3.append(r2_score(X_valid.iloc[:,i], predictions))\n",
    "    arima_val.append(predictions)\n",
    "    plt.clf()\n",
    "    "
   ]
  },
  {
   "cell_type": "code",
   "execution_count": 5,
   "metadata": {},
   "outputs": [
    {
     "data": {
      "text/plain": [
       "[66547.44699062365,\n",
       " 29202.670873225226,\n",
       " 399.25049185750674,\n",
       " 332.15399226545077,\n",
       " 58218.444877320595,\n",
       " 765504.4782686004,\n",
       " 7607.996171202804,\n",
       " 72543.59124172278,\n",
       " 2601.4623567576245,\n",
       " 1235285.477114776,\n",
       " 74071.9941619176,\n",
       " 10100.458705821778,\n",
       " 444.0328650502991,\n",
       " 4172.2882437212165,\n",
       " 74.25638861887967,\n",
       " 4857.592235572085,\n",
       " 165.40785619799104,\n",
       " 575.4969089000894,\n",
       " 193.73748391009153,\n",
       " 11034.944497536722,\n",
       " 977905.2618693763,\n",
       " 1392.7647770822573]"
      ]
     },
     "execution_count": 5,
     "metadata": {},
     "output_type": "execute_result"
    }
   ],
   "source": [
    "arima_result"
   ]
  },
  {
   "cell_type": "code",
   "execution_count": 6,
   "metadata": {},
   "outputs": [
    {
     "data": {
      "text/html": [
       "<table class=\"simpletable\">\n",
       "<caption>SARIMAX Results</caption>\n",
       "<tr>\n",
       "  <th>Dep. Variable:</th>           <td>y</td>        <th>  No. Observations:  </th>    <td>193</td>   \n",
       "</tr>\n",
       "<tr>\n",
       "  <th>Model:</th>           <td>SARIMAX(0, 1, 0)</td> <th>  Log Likelihood     </th> <td>-1268.866</td>\n",
       "</tr>\n",
       "<tr>\n",
       "  <th>Date:</th>            <td>Tue, 03 Jan 2023</td> <th>  AIC                </th> <td>2541.733</td> \n",
       "</tr>\n",
       "<tr>\n",
       "  <th>Time:</th>                <td>13:00:30</td>     <th>  BIC                </th> <td>2548.248</td> \n",
       "</tr>\n",
       "<tr>\n",
       "  <th>Sample:</th>                  <td>0</td>        <th>  HQIC               </th> <td>2544.371</td> \n",
       "</tr>\n",
       "<tr>\n",
       "  <th></th>                      <td> - 193</td>      <th>                     </th>     <td> </td>    \n",
       "</tr>\n",
       "<tr>\n",
       "  <th>Covariance Type:</th>        <td>opg</td>       <th>                     </th>     <td> </td>    \n",
       "</tr>\n",
       "</table>\n",
       "<table class=\"simpletable\">\n",
       "<tr>\n",
       "      <td></td>         <th>coef</th>     <th>std err</th>      <th>z</th>      <th>P>|z|</th>  <th>[0.025</th>    <th>0.975]</th>  \n",
       "</tr>\n",
       "<tr>\n",
       "  <th>intercept</th> <td>   19.1607</td> <td>   13.865</td> <td>    1.382</td> <td> 0.167</td> <td>   -8.014</td> <td>   46.336</td>\n",
       "</tr>\n",
       "<tr>\n",
       "  <th>sigma2</th>    <td> 3.219e+04</td> <td> 2496.112</td> <td>   12.897</td> <td> 0.000</td> <td> 2.73e+04</td> <td> 3.71e+04</td>\n",
       "</tr>\n",
       "</table>\n",
       "<table class=\"simpletable\">\n",
       "<tr>\n",
       "  <th>Ljung-Box (L1) (Q):</th>     <td>0.17</td> <th>  Jarque-Bera (JB):  </th> <td>47.39</td>\n",
       "</tr>\n",
       "<tr>\n",
       "  <th>Prob(Q):</th>                <td>0.68</td> <th>  Prob(JB):          </th> <td>0.00</td> \n",
       "</tr>\n",
       "<tr>\n",
       "  <th>Heteroskedasticity (H):</th> <td>1.48</td> <th>  Skew:              </th> <td>-0.71</td>\n",
       "</tr>\n",
       "<tr>\n",
       "  <th>Prob(H) (two-sided):</th>    <td>0.12</td> <th>  Kurtosis:          </th> <td>4.97</td> \n",
       "</tr>\n",
       "</table><br/><br/>Warnings:<br/>[1] Covariance matrix calculated using the outer product of gradients (complex-step)."
      ],
      "text/plain": [
       "<class 'statsmodels.iolib.summary.Summary'>\n",
       "\"\"\"\n",
       "                               SARIMAX Results                                \n",
       "==============================================================================\n",
       "Dep. Variable:                      y   No. Observations:                  193\n",
       "Model:               SARIMAX(0, 1, 0)   Log Likelihood               -1268.866\n",
       "Date:                Tue, 03 Jan 2023   AIC                           2541.733\n",
       "Time:                        13:00:30   BIC                           2548.248\n",
       "Sample:                             0   HQIC                          2544.371\n",
       "                                - 193                                         \n",
       "Covariance Type:                  opg                                         \n",
       "==============================================================================\n",
       "                 coef    std err          z      P>|z|      [0.025      0.975]\n",
       "------------------------------------------------------------------------------\n",
       "intercept     19.1607     13.865      1.382      0.167      -8.014      46.336\n",
       "sigma2      3.219e+04   2496.112     12.897      0.000    2.73e+04    3.71e+04\n",
       "===================================================================================\n",
       "Ljung-Box (L1) (Q):                   0.17   Jarque-Bera (JB):                47.39\n",
       "Prob(Q):                              0.68   Prob(JB):                         0.00\n",
       "Heteroskedasticity (H):               1.48   Skew:                            -0.71\n",
       "Prob(H) (two-sided):                  0.12   Kurtosis:                         4.97\n",
       "===================================================================================\n",
       "\n",
       "Warnings:\n",
       "[1] Covariance matrix calculated using the outer product of gradients (complex-step).\n",
       "\"\"\""
      ]
     },
     "execution_count": 6,
     "metadata": {},
     "output_type": "execute_result"
    }
   ],
   "source": [
    "arima_result_2[0]"
   ]
  },
  {
   "cell_type": "code",
   "execution_count": 7,
   "metadata": {},
   "outputs": [
    {
     "data": {
      "text/html": [
       "<table class=\"simpletable\">\n",
       "<caption>SARIMAX Results</caption>\n",
       "<tr>\n",
       "  <th>Dep. Variable:</th>           <td>y</td>        <th>  No. Observations:  </th>    <td>193</td>   \n",
       "</tr>\n",
       "<tr>\n",
       "  <th>Model:</th>           <td>SARIMAX(0, 1, 0)</td> <th>  Log Likelihood     </th> <td>-1263.368</td>\n",
       "</tr>\n",
       "<tr>\n",
       "  <th>Date:</th>            <td>Tue, 03 Jan 2023</td> <th>  AIC                </th> <td>2530.736</td> \n",
       "</tr>\n",
       "<tr>\n",
       "  <th>Time:</th>                <td>13:04:45</td>     <th>  BIC                </th> <td>2537.251</td> \n",
       "</tr>\n",
       "<tr>\n",
       "  <th>Sample:</th>                  <td>0</td>        <th>  HQIC               </th> <td>2533.375</td> \n",
       "</tr>\n",
       "<tr>\n",
       "  <th></th>                      <td> - 193</td>      <th>                     </th>     <td> </td>    \n",
       "</tr>\n",
       "<tr>\n",
       "  <th>Covariance Type:</th>        <td>opg</td>       <th>                     </th>     <td> </td>    \n",
       "</tr>\n",
       "</table>\n",
       "<table class=\"simpletable\">\n",
       "<tr>\n",
       "      <td></td>         <th>coef</th>     <th>std err</th>      <th>z</th>      <th>P>|z|</th>  <th>[0.025</th>    <th>0.975]</th>  \n",
       "</tr>\n",
       "<tr>\n",
       "  <th>intercept</th> <td>   10.3835</td> <td>   13.305</td> <td>    0.780</td> <td> 0.435</td> <td>  -15.694</td> <td>   36.461</td>\n",
       "</tr>\n",
       "<tr>\n",
       "  <th>sigma2</th>    <td>  3.04e+04</td> <td> 2858.822</td> <td>   10.634</td> <td> 0.000</td> <td> 2.48e+04</td> <td>  3.6e+04</td>\n",
       "</tr>\n",
       "</table>\n",
       "<table class=\"simpletable\">\n",
       "<tr>\n",
       "  <th>Ljung-Box (L1) (Q):</th>     <td>0.08</td> <th>  Jarque-Bera (JB):  </th> <td>12.12</td>\n",
       "</tr>\n",
       "<tr>\n",
       "  <th>Prob(Q):</th>                <td>0.77</td> <th>  Prob(JB):          </th> <td>0.00</td> \n",
       "</tr>\n",
       "<tr>\n",
       "  <th>Heteroskedasticity (H):</th> <td>2.23</td> <th>  Skew:              </th> <td>-0.53</td>\n",
       "</tr>\n",
       "<tr>\n",
       "  <th>Prob(H) (two-sided):</th>    <td>0.00</td> <th>  Kurtosis:          </th> <td>3.63</td> \n",
       "</tr>\n",
       "</table><br/><br/>Warnings:<br/>[1] Covariance matrix calculated using the outer product of gradients (complex-step)."
      ],
      "text/plain": [
       "<class 'statsmodels.iolib.summary.Summary'>\n",
       "\"\"\"\n",
       "                               SARIMAX Results                                \n",
       "==============================================================================\n",
       "Dep. Variable:                      y   No. Observations:                  193\n",
       "Model:               SARIMAX(0, 1, 0)   Log Likelihood               -1263.368\n",
       "Date:                Tue, 03 Jan 2023   AIC                           2530.736\n",
       "Time:                        13:04:45   BIC                           2537.251\n",
       "Sample:                             0   HQIC                          2533.375\n",
       "                                - 193                                         \n",
       "Covariance Type:                  opg                                         \n",
       "==============================================================================\n",
       "                 coef    std err          z      P>|z|      [0.025      0.975]\n",
       "------------------------------------------------------------------------------\n",
       "intercept     10.3835     13.305      0.780      0.435     -15.694      36.461\n",
       "sigma2       3.04e+04   2858.822     10.634      0.000    2.48e+04     3.6e+04\n",
       "===================================================================================\n",
       "Ljung-Box (L1) (Q):                   0.08   Jarque-Bera (JB):                12.12\n",
       "Prob(Q):                              0.77   Prob(JB):                         0.00\n",
       "Heteroskedasticity (H):               2.23   Skew:                            -0.53\n",
       "Prob(H) (two-sided):                  0.00   Kurtosis:                         3.63\n",
       "===================================================================================\n",
       "\n",
       "Warnings:\n",
       "[1] Covariance matrix calculated using the outer product of gradients (complex-step).\n",
       "\"\"\""
      ]
     },
     "execution_count": 7,
     "metadata": {},
     "output_type": "execute_result"
    }
   ],
   "source": [
    "arima_result_2[1]"
   ]
  },
  {
   "cell_type": "code",
   "execution_count": 8,
   "metadata": {},
   "outputs": [
    {
     "data": {
      "text/html": [
       "<table class=\"simpletable\">\n",
       "<caption>SARIMAX Results</caption>\n",
       "<tr>\n",
       "  <th>Dep. Variable:</th>                  <td>y</td>                <th>  No. Observations:  </th>    <td>193</td>  \n",
       "</tr>\n",
       "<tr>\n",
       "  <th>Model:</th>           <td>SARIMAX(2, 1, 2)x(1, 0, [], 12)</td> <th>  Log Likelihood     </th> <td>-809.033</td>\n",
       "</tr>\n",
       "<tr>\n",
       "  <th>Date:</th>                   <td>Tue, 03 Jan 2023</td>         <th>  AIC                </th> <td>1632.066</td>\n",
       "</tr>\n",
       "<tr>\n",
       "  <th>Time:</th>                       <td>13:08:51</td>             <th>  BIC                </th> <td>1654.869</td>\n",
       "</tr>\n",
       "<tr>\n",
       "  <th>Sample:</th>                         <td>0</td>                <th>  HQIC               </th> <td>1641.301</td>\n",
       "</tr>\n",
       "<tr>\n",
       "  <th></th>                             <td> - 193</td>              <th>                     </th>     <td> </td>   \n",
       "</tr>\n",
       "<tr>\n",
       "  <th>Covariance Type:</th>               <td>opg</td>               <th>                     </th>     <td> </td>   \n",
       "</tr>\n",
       "</table>\n",
       "<table class=\"simpletable\">\n",
       "<tr>\n",
       "      <td></td>         <th>coef</th>     <th>std err</th>      <th>z</th>      <th>P>|z|</th>  <th>[0.025</th>    <th>0.975]</th>  \n",
       "</tr>\n",
       "<tr>\n",
       "  <th>intercept</th> <td>    0.9380</td> <td>    1.388</td> <td>    0.676</td> <td> 0.499</td> <td>   -1.783</td> <td>    3.659</td>\n",
       "</tr>\n",
       "<tr>\n",
       "  <th>ar.L1</th>     <td>    0.6802</td> <td>    0.110</td> <td>    6.184</td> <td> 0.000</td> <td>    0.465</td> <td>    0.896</td>\n",
       "</tr>\n",
       "<tr>\n",
       "  <th>ar.L2</th>     <td>   -0.5796</td> <td>    0.088</td> <td>   -6.592</td> <td> 0.000</td> <td>   -0.752</td> <td>   -0.407</td>\n",
       "</tr>\n",
       "<tr>\n",
       "  <th>ma.L1</th>     <td>   -0.7617</td> <td>    0.066</td> <td>  -11.464</td> <td> 0.000</td> <td>   -0.892</td> <td>   -0.631</td>\n",
       "</tr>\n",
       "<tr>\n",
       "  <th>ma.L2</th>     <td>    0.8354</td> <td>    0.060</td> <td>   13.946</td> <td> 0.000</td> <td>    0.718</td> <td>    0.953</td>\n",
       "</tr>\n",
       "<tr>\n",
       "  <th>ar.S.L12</th>  <td>   -0.1471</td> <td>    0.088</td> <td>   -1.666</td> <td> 0.096</td> <td>   -0.320</td> <td>    0.026</td>\n",
       "</tr>\n",
       "<tr>\n",
       "  <th>sigma2</th>    <td>  266.3257</td> <td>   21.009</td> <td>   12.677</td> <td> 0.000</td> <td>  225.150</td> <td>  307.502</td>\n",
       "</tr>\n",
       "</table>\n",
       "<table class=\"simpletable\">\n",
       "<tr>\n",
       "  <th>Ljung-Box (L1) (Q):</th>     <td>0.62</td> <th>  Jarque-Bera (JB):  </th> <td>116.90</td>\n",
       "</tr>\n",
       "<tr>\n",
       "  <th>Prob(Q):</th>                <td>0.43</td> <th>  Prob(JB):          </th>  <td>0.00</td> \n",
       "</tr>\n",
       "<tr>\n",
       "  <th>Heteroskedasticity (H):</th> <td>3.30</td> <th>  Skew:              </th>  <td>0.32</td> \n",
       "</tr>\n",
       "<tr>\n",
       "  <th>Prob(H) (two-sided):</th>    <td>0.00</td> <th>  Kurtosis:          </th>  <td>6.77</td> \n",
       "</tr>\n",
       "</table><br/><br/>Warnings:<br/>[1] Covariance matrix calculated using the outer product of gradients (complex-step)."
      ],
      "text/plain": [
       "<class 'statsmodels.iolib.summary.Summary'>\n",
       "\"\"\"\n",
       "                                      SARIMAX Results                                      \n",
       "===========================================================================================\n",
       "Dep. Variable:                                   y   No. Observations:                  193\n",
       "Model:             SARIMAX(2, 1, 2)x(1, 0, [], 12)   Log Likelihood                -809.033\n",
       "Date:                             Tue, 03 Jan 2023   AIC                           1632.066\n",
       "Time:                                     13:08:51   BIC                           1654.869\n",
       "Sample:                                          0   HQIC                          1641.301\n",
       "                                             - 193                                         \n",
       "Covariance Type:                               opg                                         \n",
       "==============================================================================\n",
       "                 coef    std err          z      P>|z|      [0.025      0.975]\n",
       "------------------------------------------------------------------------------\n",
       "intercept      0.9380      1.388      0.676      0.499      -1.783       3.659\n",
       "ar.L1          0.6802      0.110      6.184      0.000       0.465       0.896\n",
       "ar.L2         -0.5796      0.088     -6.592      0.000      -0.752      -0.407\n",
       "ma.L1         -0.7617      0.066    -11.464      0.000      -0.892      -0.631\n",
       "ma.L2          0.8354      0.060     13.946      0.000       0.718       0.953\n",
       "ar.S.L12      -0.1471      0.088     -1.666      0.096      -0.320       0.026\n",
       "sigma2       266.3257     21.009     12.677      0.000     225.150     307.502\n",
       "===================================================================================\n",
       "Ljung-Box (L1) (Q):                   0.62   Jarque-Bera (JB):               116.90\n",
       "Prob(Q):                              0.43   Prob(JB):                         0.00\n",
       "Heteroskedasticity (H):               3.30   Skew:                             0.32\n",
       "Prob(H) (two-sided):                  0.00   Kurtosis:                         6.77\n",
       "===================================================================================\n",
       "\n",
       "Warnings:\n",
       "[1] Covariance matrix calculated using the outer product of gradients (complex-step).\n",
       "\"\"\""
      ]
     },
     "execution_count": 8,
     "metadata": {},
     "output_type": "execute_result"
    }
   ],
   "source": [
    "arima_result_2[2]"
   ]
  },
  {
   "cell_type": "code",
   "execution_count": 9,
   "metadata": {},
   "outputs": [
    {
     "data": {
      "text/html": [
       "<table class=\"simpletable\">\n",
       "<caption>SARIMAX Results</caption>\n",
       "<tr>\n",
       "  <th>Dep. Variable:</th>                    <td>y</td>                  <th>  No. Observations:  </th>    <td>193</td>  \n",
       "</tr>\n",
       "<tr>\n",
       "  <th>Model:</th>           <td>SARIMAX(0, 1, 0)x(1, 0, [1, 2], 12)</td> <th>  Log Likelihood     </th> <td>-868.444</td>\n",
       "</tr>\n",
       "<tr>\n",
       "  <th>Date:</th>                     <td>Tue, 03 Jan 2023</td>           <th>  AIC                </th> <td>1746.887</td>\n",
       "</tr>\n",
       "<tr>\n",
       "  <th>Time:</th>                         <td>13:12:48</td>               <th>  BIC                </th> <td>1763.175</td>\n",
       "</tr>\n",
       "<tr>\n",
       "  <th>Sample:</th>                           <td>0</td>                  <th>  HQIC               </th> <td>1753.484</td>\n",
       "</tr>\n",
       "<tr>\n",
       "  <th></th>                               <td> - 193</td>                <th>                     </th>     <td> </td>   \n",
       "</tr>\n",
       "<tr>\n",
       "  <th>Covariance Type:</th>                 <td>opg</td>                 <th>                     </th>     <td> </td>   \n",
       "</tr>\n",
       "</table>\n",
       "<table class=\"simpletable\">\n",
       "<tr>\n",
       "      <td></td>         <th>coef</th>     <th>std err</th>      <th>z</th>      <th>P>|z|</th>  <th>[0.025</th>    <th>0.975]</th>  \n",
       "</tr>\n",
       "<tr>\n",
       "  <th>intercept</th> <td>    1.3492</td> <td>    2.938</td> <td>    0.459</td> <td> 0.646</td> <td>   -4.409</td> <td>    7.108</td>\n",
       "</tr>\n",
       "<tr>\n",
       "  <th>ar.S.L12</th>  <td>   -0.2703</td> <td>    0.273</td> <td>   -0.992</td> <td> 0.321</td> <td>   -0.804</td> <td>    0.264</td>\n",
       "</tr>\n",
       "<tr>\n",
       "  <th>ma.S.L12</th>  <td>    0.4117</td> <td>    0.266</td> <td>    1.548</td> <td> 0.122</td> <td>   -0.110</td> <td>    0.933</td>\n",
       "</tr>\n",
       "<tr>\n",
       "  <th>ma.S.L24</th>  <td>    0.3449</td> <td>    0.092</td> <td>    3.768</td> <td> 0.000</td> <td>    0.166</td> <td>    0.524</td>\n",
       "</tr>\n",
       "<tr>\n",
       "  <th>sigma2</th>    <td>  489.2893</td> <td>   40.553</td> <td>   12.066</td> <td> 0.000</td> <td>  409.808</td> <td>  568.771</td>\n",
       "</tr>\n",
       "</table>\n",
       "<table class=\"simpletable\">\n",
       "<tr>\n",
       "  <th>Ljung-Box (L1) (Q):</th>     <td>0.52</td> <th>  Jarque-Bera (JB):  </th> <td>34.60</td>\n",
       "</tr>\n",
       "<tr>\n",
       "  <th>Prob(Q):</th>                <td>0.47</td> <th>  Prob(JB):          </th> <td>0.00</td> \n",
       "</tr>\n",
       "<tr>\n",
       "  <th>Heteroskedasticity (H):</th> <td>0.91</td> <th>  Skew:              </th> <td>-0.51</td>\n",
       "</tr>\n",
       "<tr>\n",
       "  <th>Prob(H) (two-sided):</th>    <td>0.70</td> <th>  Kurtosis:          </th> <td>4.82</td> \n",
       "</tr>\n",
       "</table><br/><br/>Warnings:<br/>[1] Covariance matrix calculated using the outer product of gradients (complex-step)."
      ],
      "text/plain": [
       "<class 'statsmodels.iolib.summary.Summary'>\n",
       "\"\"\"\n",
       "                                        SARIMAX Results                                        \n",
       "===============================================================================================\n",
       "Dep. Variable:                                       y   No. Observations:                  193\n",
       "Model:             SARIMAX(0, 1, 0)x(1, 0, [1, 2], 12)   Log Likelihood                -868.444\n",
       "Date:                                 Tue, 03 Jan 2023   AIC                           1746.887\n",
       "Time:                                         13:12:48   BIC                           1763.175\n",
       "Sample:                                              0   HQIC                          1753.484\n",
       "                                                 - 193                                         \n",
       "Covariance Type:                                   opg                                         \n",
       "==============================================================================\n",
       "                 coef    std err          z      P>|z|      [0.025      0.975]\n",
       "------------------------------------------------------------------------------\n",
       "intercept      1.3492      2.938      0.459      0.646      -4.409       7.108\n",
       "ar.S.L12      -0.2703      0.273     -0.992      0.321      -0.804       0.264\n",
       "ma.S.L12       0.4117      0.266      1.548      0.122      -0.110       0.933\n",
       "ma.S.L24       0.3449      0.092      3.768      0.000       0.166       0.524\n",
       "sigma2       489.2893     40.553     12.066      0.000     409.808     568.771\n",
       "===================================================================================\n",
       "Ljung-Box (L1) (Q):                   0.52   Jarque-Bera (JB):                34.60\n",
       "Prob(Q):                              0.47   Prob(JB):                         0.00\n",
       "Heteroskedasticity (H):               0.91   Skew:                            -0.51\n",
       "Prob(H) (two-sided):                  0.70   Kurtosis:                         4.82\n",
       "===================================================================================\n",
       "\n",
       "Warnings:\n",
       "[1] Covariance matrix calculated using the outer product of gradients (complex-step).\n",
       "\"\"\""
      ]
     },
     "execution_count": 9,
     "metadata": {},
     "output_type": "execute_result"
    }
   ],
   "source": [
    "arima_result_2[3]"
   ]
  },
  {
   "cell_type": "code",
   "execution_count": 10,
   "metadata": {},
   "outputs": [
    {
     "data": {
      "text/html": [
       "<table class=\"simpletable\">\n",
       "<caption>SARIMAX Results</caption>\n",
       "<tr>\n",
       "  <th>Dep. Variable:</th>                   <td>y</td>                <th>  No. Observations:  </th>    <td>193</td>   \n",
       "</tr>\n",
       "<tr>\n",
       "  <th>Model:</th>           <td>SARIMAX(2, 1, 2)x(0, 0, [1], 12)</td> <th>  Log Likelihood     </th> <td>-1318.835</td>\n",
       "</tr>\n",
       "<tr>\n",
       "  <th>Date:</th>                    <td>Tue, 03 Jan 2023</td>         <th>  AIC                </th> <td>2651.671</td> \n",
       "</tr>\n",
       "<tr>\n",
       "  <th>Time:</th>                        <td>13:16:50</td>             <th>  BIC                </th> <td>2674.473</td> \n",
       "</tr>\n",
       "<tr>\n",
       "  <th>Sample:</th>                          <td>0</td>                <th>  HQIC               </th> <td>2660.906</td> \n",
       "</tr>\n",
       "<tr>\n",
       "  <th></th>                              <td> - 193</td>              <th>                     </th>     <td> </td>    \n",
       "</tr>\n",
       "<tr>\n",
       "  <th>Covariance Type:</th>                <td>opg</td>               <th>                     </th>     <td> </td>    \n",
       "</tr>\n",
       "</table>\n",
       "<table class=\"simpletable\">\n",
       "<tr>\n",
       "      <td></td>         <th>coef</th>     <th>std err</th>      <th>z</th>      <th>P>|z|</th>  <th>[0.025</th>    <th>0.975]</th>  \n",
       "</tr>\n",
       "<tr>\n",
       "  <th>intercept</th> <td>   16.9941</td> <td>   16.227</td> <td>    1.047</td> <td> 0.295</td> <td>  -14.811</td> <td>   48.799</td>\n",
       "</tr>\n",
       "<tr>\n",
       "  <th>ar.L1</th>     <td>    0.6899</td> <td>    0.166</td> <td>    4.168</td> <td> 0.000</td> <td>    0.365</td> <td>    1.014</td>\n",
       "</tr>\n",
       "<tr>\n",
       "  <th>ar.L2</th>     <td>   -0.6366</td> <td>    0.168</td> <td>   -3.782</td> <td> 0.000</td> <td>   -0.966</td> <td>   -0.307</td>\n",
       "</tr>\n",
       "<tr>\n",
       "  <th>ma.L1</th>     <td>   -0.7240</td> <td>    0.138</td> <td>   -5.260</td> <td> 0.000</td> <td>   -0.994</td> <td>   -0.454</td>\n",
       "</tr>\n",
       "<tr>\n",
       "  <th>ma.L2</th>     <td>    0.8005</td> <td>    0.141</td> <td>    5.673</td> <td> 0.000</td> <td>    0.524</td> <td>    1.077</td>\n",
       "</tr>\n",
       "<tr>\n",
       "  <th>ma.S.L12</th>  <td>   -0.2036</td> <td>    0.080</td> <td>   -2.539</td> <td> 0.011</td> <td>   -0.361</td> <td>   -0.046</td>\n",
       "</tr>\n",
       "<tr>\n",
       "  <th>sigma2</th>    <td> 5.396e+04</td> <td> 4068.472</td> <td>   13.262</td> <td> 0.000</td> <td>  4.6e+04</td> <td> 6.19e+04</td>\n",
       "</tr>\n",
       "</table>\n",
       "<table class=\"simpletable\">\n",
       "<tr>\n",
       "  <th>Ljung-Box (L1) (Q):</th>     <td>0.06</td> <th>  Jarque-Bera (JB):  </th> <td>51.41</td>\n",
       "</tr>\n",
       "<tr>\n",
       "  <th>Prob(Q):</th>                <td>0.80</td> <th>  Prob(JB):          </th> <td>0.00</td> \n",
       "</tr>\n",
       "<tr>\n",
       "  <th>Heteroskedasticity (H):</th> <td>1.36</td> <th>  Skew:              </th> <td>-0.34</td>\n",
       "</tr>\n",
       "<tr>\n",
       "  <th>Prob(H) (two-sided):</th>    <td>0.22</td> <th>  Kurtosis:          </th> <td>5.44</td> \n",
       "</tr>\n",
       "</table><br/><br/>Warnings:<br/>[1] Covariance matrix calculated using the outer product of gradients (complex-step)."
      ],
      "text/plain": [
       "<class 'statsmodels.iolib.summary.Summary'>\n",
       "\"\"\"\n",
       "                                      SARIMAX Results                                       \n",
       "============================================================================================\n",
       "Dep. Variable:                                    y   No. Observations:                  193\n",
       "Model:             SARIMAX(2, 1, 2)x(0, 0, [1], 12)   Log Likelihood               -1318.835\n",
       "Date:                              Tue, 03 Jan 2023   AIC                           2651.671\n",
       "Time:                                      13:16:50   BIC                           2674.473\n",
       "Sample:                                           0   HQIC                          2660.906\n",
       "                                              - 193                                         \n",
       "Covariance Type:                                opg                                         \n",
       "==============================================================================\n",
       "                 coef    std err          z      P>|z|      [0.025      0.975]\n",
       "------------------------------------------------------------------------------\n",
       "intercept     16.9941     16.227      1.047      0.295     -14.811      48.799\n",
       "ar.L1          0.6899      0.166      4.168      0.000       0.365       1.014\n",
       "ar.L2         -0.6366      0.168     -3.782      0.000      -0.966      -0.307\n",
       "ma.L1         -0.7240      0.138     -5.260      0.000      -0.994      -0.454\n",
       "ma.L2          0.8005      0.141      5.673      0.000       0.524       1.077\n",
       "ma.S.L12      -0.2036      0.080     -2.539      0.011      -0.361      -0.046\n",
       "sigma2      5.396e+04   4068.472     13.262      0.000     4.6e+04    6.19e+04\n",
       "===================================================================================\n",
       "Ljung-Box (L1) (Q):                   0.06   Jarque-Bera (JB):                51.41\n",
       "Prob(Q):                              0.80   Prob(JB):                         0.00\n",
       "Heteroskedasticity (H):               1.36   Skew:                            -0.34\n",
       "Prob(H) (two-sided):                  0.22   Kurtosis:                         5.44\n",
       "===================================================================================\n",
       "\n",
       "Warnings:\n",
       "[1] Covariance matrix calculated using the outer product of gradients (complex-step).\n",
       "\"\"\""
      ]
     },
     "execution_count": 10,
     "metadata": {},
     "output_type": "execute_result"
    }
   ],
   "source": [
    "arima_result_2[4]"
   ]
  },
  {
   "cell_type": "code",
   "execution_count": 11,
   "metadata": {},
   "outputs": [
    {
     "data": {
      "text/html": [
       "<table class=\"simpletable\">\n",
       "<caption>SARIMAX Results</caption>\n",
       "<tr>\n",
       "  <th>Dep. Variable:</th>                    <td>y</td>                  <th>  No. Observations:  </th>    <td>193</td>   \n",
       "</tr>\n",
       "<tr>\n",
       "  <th>Model:</th>           <td>SARIMAX(0, 1, 0)x(1, 0, [1, 2], 12)</td> <th>  Log Likelihood     </th> <td>-1484.830</td>\n",
       "</tr>\n",
       "<tr>\n",
       "  <th>Date:</th>                     <td>Tue, 03 Jan 2023</td>           <th>  AIC                </th> <td>2979.661</td> \n",
       "</tr>\n",
       "<tr>\n",
       "  <th>Time:</th>                         <td>13:20:55</td>               <th>  BIC                </th> <td>2995.948</td> \n",
       "</tr>\n",
       "<tr>\n",
       "  <th>Sample:</th>                           <td>0</td>                  <th>  HQIC               </th> <td>2986.257</td> \n",
       "</tr>\n",
       "<tr>\n",
       "  <th></th>                               <td> - 193</td>                <th>                     </th>     <td> </td>    \n",
       "</tr>\n",
       "<tr>\n",
       "  <th>Covariance Type:</th>                 <td>opg</td>                 <th>                     </th>     <td> </td>    \n",
       "</tr>\n",
       "</table>\n",
       "<table class=\"simpletable\">\n",
       "<tr>\n",
       "      <td></td>         <th>coef</th>     <th>std err</th>      <th>z</th>      <th>P>|z|</th>  <th>[0.025</th>    <th>0.975]</th>  \n",
       "</tr>\n",
       "<tr>\n",
       "  <th>intercept</th> <td>   52.5730</td> <td>   80.066</td> <td>    0.657</td> <td> 0.511</td> <td> -104.354</td> <td>  209.500</td>\n",
       "</tr>\n",
       "<tr>\n",
       "  <th>ar.S.L12</th>  <td>   -0.5430</td> <td>    0.170</td> <td>   -3.195</td> <td> 0.001</td> <td>   -0.876</td> <td>   -0.210</td>\n",
       "</tr>\n",
       "<tr>\n",
       "  <th>ma.S.L12</th>  <td>    0.4997</td> <td>    0.172</td> <td>    2.911</td> <td> 0.004</td> <td>    0.163</td> <td>    0.836</td>\n",
       "</tr>\n",
       "<tr>\n",
       "  <th>ma.S.L24</th>  <td>    0.3897</td> <td>    0.073</td> <td>    5.314</td> <td> 0.000</td> <td>    0.246</td> <td>    0.533</td>\n",
       "</tr>\n",
       "<tr>\n",
       "  <th>sigma2</th>    <td> 2.964e+05</td> <td> 2.21e+04</td> <td>   13.397</td> <td> 0.000</td> <td> 2.53e+05</td> <td>  3.4e+05</td>\n",
       "</tr>\n",
       "</table>\n",
       "<table class=\"simpletable\">\n",
       "<tr>\n",
       "  <th>Ljung-Box (L1) (Q):</th>     <td>1.08</td> <th>  Jarque-Bera (JB):  </th> <td>284.43</td>\n",
       "</tr>\n",
       "<tr>\n",
       "  <th>Prob(Q):</th>                <td>0.30</td> <th>  Prob(JB):          </th>  <td>0.00</td> \n",
       "</tr>\n",
       "<tr>\n",
       "  <th>Heteroskedasticity (H):</th> <td>9.40</td> <th>  Skew:              </th>  <td>-1.00</td>\n",
       "</tr>\n",
       "<tr>\n",
       "  <th>Prob(H) (two-sided):</th>    <td>0.00</td> <th>  Kurtosis:          </th>  <td>8.62</td> \n",
       "</tr>\n",
       "</table><br/><br/>Warnings:<br/>[1] Covariance matrix calculated using the outer product of gradients (complex-step)."
      ],
      "text/plain": [
       "<class 'statsmodels.iolib.summary.Summary'>\n",
       "\"\"\"\n",
       "                                        SARIMAX Results                                        \n",
       "===============================================================================================\n",
       "Dep. Variable:                                       y   No. Observations:                  193\n",
       "Model:             SARIMAX(0, 1, 0)x(1, 0, [1, 2], 12)   Log Likelihood               -1484.830\n",
       "Date:                                 Tue, 03 Jan 2023   AIC                           2979.661\n",
       "Time:                                         13:20:55   BIC                           2995.948\n",
       "Sample:                                              0   HQIC                          2986.257\n",
       "                                                 - 193                                         \n",
       "Covariance Type:                                   opg                                         \n",
       "==============================================================================\n",
       "                 coef    std err          z      P>|z|      [0.025      0.975]\n",
       "------------------------------------------------------------------------------\n",
       "intercept     52.5730     80.066      0.657      0.511    -104.354     209.500\n",
       "ar.S.L12      -0.5430      0.170     -3.195      0.001      -0.876      -0.210\n",
       "ma.S.L12       0.4997      0.172      2.911      0.004       0.163       0.836\n",
       "ma.S.L24       0.3897      0.073      5.314      0.000       0.246       0.533\n",
       "sigma2      2.964e+05   2.21e+04     13.397      0.000    2.53e+05     3.4e+05\n",
       "===================================================================================\n",
       "Ljung-Box (L1) (Q):                   1.08   Jarque-Bera (JB):               284.43\n",
       "Prob(Q):                              0.30   Prob(JB):                         0.00\n",
       "Heteroskedasticity (H):               9.40   Skew:                            -1.00\n",
       "Prob(H) (two-sided):                  0.00   Kurtosis:                         8.62\n",
       "===================================================================================\n",
       "\n",
       "Warnings:\n",
       "[1] Covariance matrix calculated using the outer product of gradients (complex-step).\n",
       "\"\"\""
      ]
     },
     "execution_count": 11,
     "metadata": {},
     "output_type": "execute_result"
    }
   ],
   "source": [
    "arima_result_2[5]"
   ]
  },
  {
   "cell_type": "code",
   "execution_count": 46,
   "metadata": {},
   "outputs": [
    {
     "data": {
      "text/plain": [
       "[-1.1325987038168823,\n",
       " 0.6959492712246852,\n",
       " 0.22920582194327566,\n",
       " 0.5106843950365143,\n",
       " 0.5865436332711326,\n",
       " 0.14451717540418318,\n",
       " 0.6658754386156813,\n",
       " 0.6429501007583611,\n",
       " 0.4152698570478346,\n",
       " 0.2687078798438063,\n",
       " -0.2537026441638144,\n",
       " -0.656628980013449,\n",
       " 0.623456686403431,\n",
       " 0.6539082798294076,\n",
       " 0.6673911005571664,\n",
       " 0.11572690002134312,\n",
       " 0.49186086012383323,\n",
       " 0.6170265112025105,\n",
       " 0.7462709471425942,\n",
       " 0.2890123778115551,\n",
       " 0.7882091948143657,\n",
       " -0.012694488123802916]"
      ]
     },
     "execution_count": 46,
     "metadata": {},
     "output_type": "execute_result"
    }
   ],
   "source": [
    "arima_result_3"
   ]
  },
  {
   "cell_type": "code",
   "execution_count": 48,
   "metadata": {},
   "outputs": [],
   "source": [
    "predict = pd.DataFrame(arima_val).T"
   ]
  }
 ],
 "metadata": {
  "kernelspec": {
   "display_name": "version_test",
   "language": "python",
   "name": "python3"
  },
  "language_info": {
   "codemirror_mode": {
    "name": "ipython",
    "version": 3
   },
   "file_extension": ".py",
   "mimetype": "text/x-python",
   "name": "python",
   "nbconvert_exporter": "python",
   "pygments_lexer": "ipython3",
   "version": "3.7.15 (default, Nov 24 2022, 18:44:54) [MSC v.1916 64 bit (AMD64)]"
  },
  "orig_nbformat": 4,
  "vscode": {
   "interpreter": {
    "hash": "cfe135afd72bafd3529fdb2d5bee25c98d4b633c63039531eadf892df31ba1d4"
   }
  }
 },
 "nbformat": 4,
 "nbformat_minor": 2
}

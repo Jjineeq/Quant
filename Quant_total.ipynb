{
 "cells": [
  {
   "cell_type": "code",
   "execution_count": 1,
   "metadata": {},
   "outputs": [],
   "source": [
    "import pandas as pd\n",
    "import numpy as np\n",
    "from datetime import datetime\n",
    "from pandas import to_datetime\n",
    "import matplotlib.pyplot as plt\n",
    "import time\n",
    "import seaborn as sns\n",
    "import pmdarima as pm\n",
    "from pmdarima.model_selection import train_test_split\n",
    "\n",
    "\n",
    "from statsmodels.tsa.arima_model import ARIMA\n",
    "from statsmodels.tsa.api import ExponentialSmoothing, SimpleExpSmoothing, Holt\n",
    "from sklearn.metrics import mean_squared_error\n",
    "from sklearn.linear_model import LinearRegression\n",
    "from sklearn import linear_model\n",
    "from sklearn.metrics import r2_score\n",
    "\n",
    "import warnings\n",
    "warnings.filterwarnings('ignore')\n",
    "from tqdm import tqdm\n",
    "plt.rcParams['font.family'] ='Malgun Gothic'\n",
    "plt.rcParams['axes.unicode_minus'] =False"
   ]
  },
  {
   "cell_type": "code",
   "execution_count": 2,
   "metadata": {},
   "outputs": [],
   "source": [
    "# 포트폴리오 관련 library import\n",
    "\n",
    "import cvxopt as opt # python version 3.6-3.10 가능\n",
    "from cvxopt import solvers\n",
    "from pypfopt.efficient_frontier import EfficientFrontier # 정확하게는 모르겠는데 3.7은 사용가능\n",
    "from pypfopt import risk_models\n",
    "from pypfopt import expected_returns"
   ]
  },
  {
   "cell_type": "code",
   "execution_count": 3,
   "metadata": {},
   "outputs": [],
   "source": [
    "df = pd.read_csv(\"C:/Users/User/github/Quant/data/kospi_category.csv\", encoding='cp949')\n",
    "start_date = '2004-01'\n",
    "end_date = '2020-03'\n",
    " \n",
    "df['time'] = pd.date_range(start_date,end_date,freq='m')\n",
    "df.drop('date',axis=1, inplace=True)\n",
    "df.set_index('time', inplace=True) "
   ]
  },
  {
   "cell_type": "code",
   "execution_count": 4,
   "metadata": {},
   "outputs": [
    {
     "name": "stdout",
     "output_type": "stream",
     "text": [
      "X_train Shape (180, 22)\n",
      "X_Valid Shape (14, 22)\n"
     ]
    }
   ],
   "source": [
    "# train 데이터와 validation 데이터 나누기.\n",
    "X_train = df[df.index < '2019-01-01']\n",
    "X_valid = df[df.index >= '2019-01-01']\n",
    "\n",
    "# 각 데이터의 사이즈 확인하기\n",
    "print('X_train Shape', X_train.shape)\n",
    "print('X_Valid Shape', X_valid.shape)"
   ]
  },
  {
   "cell_type": "code",
   "execution_count": null,
   "metadata": {},
   "outputs": [],
   "source": [
    "# Moving Window 적용\n",
    "arima_result = []\n",
    "arima_result_2 = []\n",
    "arima_result_3 = []\n",
    "arima_val = []\n",
    "for i in tqdm(range(len(df.columns))):\n",
    "    predictions = list()\n",
    "    history = [x for x in X_train.iloc[:,i]]\n",
    "    for t in range(len(X_valid)):\n",
    "        model = pm.auto_arima(y = history)\n",
    "        output = model.predict()\n",
    "        yhat = output[0]\n",
    "        predictions.append(yhat)\n",
    "        obs = X_valid.iloc[:,i][t]\n",
    "        history.append(obs)\n",
    "    \n",
    "    predictions = pd.Series(predictions, index = X_valid.index)\n",
    "\n",
    "    print(df.columns[i]+' The MSE of auto-arima is:', mean_squared_error(X_valid.iloc[:,i].values, predictions))\n",
    "    arima_result.append( mean_squared_error(X_valid.iloc[:,i].values, predictions))\n",
    "    arima_result_2.append(model.summary())\n",
    "    arima_result_3.append(r2_score(X_valid.iloc[:,i], predictions))\n",
    "    arima_val.append(predictions)\n",
    "\n",
    "    "
   ]
  },
  {
   "cell_type": "code",
   "execution_count": 5,
   "metadata": {},
   "outputs": [
    {
     "name": "stderr",
     "output_type": "stream",
     "text": [
      "  5%|▍         | 1/22 [00:07<02:27,  7.04s/it]"
     ]
    },
    {
     "name": "stdout",
     "output_type": "stream",
     "text": [
      "제조업 The MSE of auto-arima is: 69869.70982860656\n"
     ]
    },
    {
     "name": "stderr",
     "output_type": "stream",
     "text": [
      "  9%|▉         | 2/22 [00:16<02:50,  8.50s/it]"
     ]
    },
    {
     "name": "stdout",
     "output_type": "stream",
     "text": [
      "음식료품 The MSE of auto-arima is: 27358.963728057242\n"
     ]
    },
    {
     "name": "stderr",
     "output_type": "stream",
     "text": [
      " 14%|█▎        | 3/22 [00:44<05:30, 17.38s/it]"
     ]
    },
    {
     "name": "stdout",
     "output_type": "stream",
     "text": [
      "섬유의복 The MSE of auto-arima is: 340.46260770421975\n"
     ]
    },
    {
     "name": "stderr",
     "output_type": "stream",
     "text": [
      " 18%|█▊        | 4/22 [01:06<05:43, 19.07s/it]"
     ]
    },
    {
     "name": "stdout",
     "output_type": "stream",
     "text": [
      "종이목재 The MSE of auto-arima is: 382.8069225133988\n"
     ]
    },
    {
     "name": "stderr",
     "output_type": "stream",
     "text": [
      " 23%|██▎       | 5/22 [01:37<06:41, 23.64s/it]"
     ]
    },
    {
     "name": "stdout",
     "output_type": "stream",
     "text": [
      "화학 The MSE of auto-arima is: 52369.13938800721\n"
     ]
    },
    {
     "name": "stderr",
     "output_type": "stream",
     "text": [
      " 27%|██▋       | 6/22 [01:42<04:37, 17.33s/it]"
     ]
    },
    {
     "name": "stdout",
     "output_type": "stream",
     "text": [
      "의약품 The MSE of auto-arima is: 747592.3807111912\n"
     ]
    },
    {
     "name": "stderr",
     "output_type": "stream",
     "text": [
      " 32%|███▏      | 7/22 [01:47<03:19, 13.30s/it]"
     ]
    },
    {
     "name": "stdout",
     "output_type": "stream",
     "text": [
      "비금속광물 The MSE of auto-arima is: 6243.490142857144\n"
     ]
    },
    {
     "name": "stderr",
     "output_type": "stream",
     "text": [
      " 36%|███▋      | 8/22 [01:53<02:30, 10.77s/it]"
     ]
    },
    {
     "name": "stdout",
     "output_type": "stream",
     "text": [
      "철강금속 The MSE of auto-arima is: 50520.8865357144\n"
     ]
    },
    {
     "name": "stderr",
     "output_type": "stream",
     "text": [
      " 41%|████      | 9/22 [02:06<02:30, 11.58s/it]"
     ]
    },
    {
     "name": "stdout",
     "output_type": "stream",
     "text": [
      "기계 The MSE of auto-arima is: 2129.575508596078\n"
     ]
    },
    {
     "name": "stderr",
     "output_type": "stream",
     "text": [
      " 45%|████▌     | 10/22 [02:21<02:31, 12.61s/it]"
     ]
    },
    {
     "name": "stdout",
     "output_type": "stream",
     "text": [
      "전기전자 The MSE of auto-arima is: 1477476.87927399\n"
     ]
    },
    {
     "name": "stderr",
     "output_type": "stream",
     "text": [
      " 50%|█████     | 11/22 [02:33<02:16, 12.41s/it]"
     ]
    },
    {
     "name": "stdout",
     "output_type": "stream",
     "text": [
      "의료정밀 The MSE of auto-arima is: 62943.14033320832\n"
     ]
    },
    {
     "name": "stderr",
     "output_type": "stream",
     "text": [
      " 55%|█████▍    | 12/22 [02:38<01:41, 10.18s/it]"
     ]
    },
    {
     "name": "stdout",
     "output_type": "stream",
     "text": [
      "운수장비 The MSE of auto-arima is: 9970.688257142854\n"
     ]
    },
    {
     "name": "stderr",
     "output_type": "stream",
     "text": [
      " 59%|█████▉    | 13/22 [02:44<01:19,  8.87s/it]"
     ]
    },
    {
     "name": "stdout",
     "output_type": "stream",
     "text": [
      "유통업 The MSE of auto-arima is: 377.6617142857147\n"
     ]
    },
    {
     "name": "stderr",
     "output_type": "stream",
     "text": [
      " 64%|██████▎   | 14/22 [03:03<01:36, 12.02s/it]"
     ]
    },
    {
     "name": "stdout",
     "output_type": "stream",
     "text": [
      "전기가스업 The MSE of auto-arima is: 4817.700157436165\n"
     ]
    },
    {
     "name": "stderr",
     "output_type": "stream",
     "text": [
      " 68%|██████▊   | 15/22 [03:07<01:05,  9.40s/it]"
     ]
    },
    {
     "name": "stdout",
     "output_type": "stream",
     "text": [
      "건설업 The MSE of auto-arima is: 46.83447857142858\n"
     ]
    },
    {
     "name": "stderr",
     "output_type": "stream",
     "text": [
      " 73%|███████▎  | 16/22 [03:11<00:47,  7.92s/it]"
     ]
    },
    {
     "name": "stdout",
     "output_type": "stream",
     "text": [
      "운수창고업 The MSE of auto-arima is: 5325.152799999994\n"
     ]
    },
    {
     "name": "stderr",
     "output_type": "stream",
     "text": [
      " 77%|███████▋  | 17/22 [03:18<00:37,  7.53s/it]"
     ]
    },
    {
     "name": "stdout",
     "output_type": "stream",
     "text": [
      "통신업 The MSE of auto-arima is: 147.387692857143\n"
     ]
    },
    {
     "name": "stderr",
     "output_type": "stream",
     "text": [
      " 82%|████████▏ | 18/22 [03:27<00:32,  8.18s/it]"
     ]
    },
    {
     "name": "stdout",
     "output_type": "stream",
     "text": [
      "금융업 The MSE of auto-arima is: 446.9439358912327\n"
     ]
    },
    {
     "name": "stderr",
     "output_type": "stream",
     "text": [
      " 86%|████████▋ | 19/22 [03:35<00:23,  7.96s/it]"
     ]
    },
    {
     "name": "stdout",
     "output_type": "stream",
     "text": [
      "은행 The MSE of auto-arima is: 216.82689653920417\n"
     ]
    },
    {
     "name": "stderr",
     "output_type": "stream",
     "text": [
      " 91%|█████████ | 20/22 [03:44<00:16,  8.30s/it]"
     ]
    },
    {
     "name": "stdout",
     "output_type": "stream",
     "text": [
      "증권 The MSE of auto-arima is: 9795.285551624653\n"
     ]
    },
    {
     "name": "stderr",
     "output_type": "stream",
     "text": [
      " 95%|█████████▌| 21/22 [03:59<00:10, 10.32s/it]"
     ]
    },
    {
     "name": "stdout",
     "output_type": "stream",
     "text": [
      "보험 The MSE of auto-arima is: 837588.5221267983\n"
     ]
    },
    {
     "name": "stderr",
     "output_type": "stream",
     "text": [
      "100%|██████████| 22/22 [04:05<00:00, 11.15s/it]"
     ]
    },
    {
     "name": "stdout",
     "output_type": "stream",
     "text": [
      "서비스업 The MSE of auto-arima is: 1226.7039571428556\n"
     ]
    },
    {
     "name": "stderr",
     "output_type": "stream",
     "text": [
      "\n"
     ]
    }
   ],
   "source": [
    "# Moving Window 적용\n",
    "# Auto-ARIMA 돌리기 - 계측값이 일별이면 m=1, 월별이면 m=12, 주별이면 m=52, \n",
    "# 계절성이 있는 데이터면 seasonal=True 로 바꿔야함. 알아서 d 값을 찾아줌\n",
    "arima_result = []\n",
    "arima_result_2 = []\n",
    "arima_result_3 = []\n",
    "arima_val = []\n",
    "for i in tqdm(range(len(df.columns))):\n",
    "    predictions = list()\n",
    "    history = [x for x in X_train.iloc[:,i]]\n",
    "    for t in range(len(X_valid)):\n",
    "        model = pm.auto_arima(y = history)\n",
    "        output = model.predict()\n",
    "        yhat = output[0]\n",
    "        predictions.append(yhat)\n",
    "        obs = X_valid.iloc[:,i][t]\n",
    "        history.append(obs)\n",
    "    \n",
    "    predictions = pd.Series(predictions, index = X_valid.index)\n",
    "\n",
    "    #hart = sns.lineplot(data = pd.DataFrame(X_train.iloc[:,i]))\n",
    "    #chart.set_title(df.columns[i]+' Auto Arima')\n",
    "\n",
    "    # plt.plot(X_train.iloc[:,i], color='blue')\n",
    "    # plt.plot(predictions, color = 'red')\n",
    "    # plt.plot(X_valid.iloc[:,i], color = 'blue')\n",
    "    # plt.title(df.columns[i])\n",
    "    # plt.legend()\n",
    "    # plt.savefig(\"C:/Users/User/github/Quant/data/\"+df.columns[i]+\" moving_window.png\")\n",
    "    print(df.columns[i]+' The MSE of auto-arima is:', mean_squared_error(X_valid.iloc[:,i].values, predictions))\n",
    "    arima_result.append( mean_squared_error(X_valid.iloc[:,i].values, predictions))\n",
    "    arima_result_2.append(model.summary())\n",
    "    arima_result_3.append(r2_score(X_valid.iloc[:,i], predictions))\n",
    "    arima_val.append(predictions)\n",
    "    # plt.clf()\n",
    "    "
   ]
  },
  {
   "cell_type": "code",
   "execution_count": 6,
   "metadata": {},
   "outputs": [],
   "source": [
    "predict = pd.DataFrame(arima_val).T"
   ]
  },
  {
   "cell_type": "code",
   "execution_count": 172,
   "metadata": {},
   "outputs": [
    {
     "data": {
      "text/html": [
       "<div>\n",
       "<style scoped>\n",
       "    .dataframe tbody tr th:only-of-type {\n",
       "        vertical-align: middle;\n",
       "    }\n",
       "\n",
       "    .dataframe tbody tr th {\n",
       "        vertical-align: top;\n",
       "    }\n",
       "\n",
       "    .dataframe thead th {\n",
       "        text-align: right;\n",
       "    }\n",
       "</style>\n",
       "<table border=\"1\" class=\"dataframe\">\n",
       "  <thead>\n",
       "    <tr style=\"text-align: right;\">\n",
       "      <th></th>\n",
       "      <th>제조업</th>\n",
       "      <th>음식료품</th>\n",
       "      <th>섬유의복</th>\n",
       "      <th>종이목재</th>\n",
       "      <th>화학</th>\n",
       "      <th>의약품</th>\n",
       "      <th>비금속광물</th>\n",
       "      <th>철강금속</th>\n",
       "      <th>기계</th>\n",
       "      <th>전기전자</th>\n",
       "      <th>...</th>\n",
       "      <th>유통업</th>\n",
       "      <th>전기가스업</th>\n",
       "      <th>건설업</th>\n",
       "      <th>운수창고업</th>\n",
       "      <th>통신업</th>\n",
       "      <th>금융업</th>\n",
       "      <th>은행</th>\n",
       "      <th>증권</th>\n",
       "      <th>보험</th>\n",
       "      <th>서비스업</th>\n",
       "    </tr>\n",
       "    <tr>\n",
       "      <th>time</th>\n",
       "      <th></th>\n",
       "      <th></th>\n",
       "      <th></th>\n",
       "      <th></th>\n",
       "      <th></th>\n",
       "      <th></th>\n",
       "      <th></th>\n",
       "      <th></th>\n",
       "      <th></th>\n",
       "      <th></th>\n",
       "      <th></th>\n",
       "      <th></th>\n",
       "      <th></th>\n",
       "      <th></th>\n",
       "      <th></th>\n",
       "      <th></th>\n",
       "      <th></th>\n",
       "      <th></th>\n",
       "      <th></th>\n",
       "      <th></th>\n",
       "      <th></th>\n",
       "    </tr>\n",
       "  </thead>\n",
       "  <tbody>\n",
       "    <tr>\n",
       "      <th>2019-01-31</th>\n",
       "      <td>4579.620000</td>\n",
       "      <td>3907.933949</td>\n",
       "      <td>247.084996</td>\n",
       "      <td>357.660000</td>\n",
       "      <td>4782.249480</td>\n",
       "      <td>11626.690000</td>\n",
       "      <td>1661.05</td>\n",
       "      <td>4043.12</td>\n",
       "      <td>738.343602</td>\n",
       "      <td>14107.500651</td>\n",
       "      <td>...</td>\n",
       "      <td>393.50</td>\n",
       "      <td>1050.600000</td>\n",
       "      <td>112.60</td>\n",
       "      <td>1341.29</td>\n",
       "      <td>397.99</td>\n",
       "      <td>434.405401</td>\n",
       "      <td>298.840542</td>\n",
       "      <td>1689.914681</td>\n",
       "      <td>16366.798971</td>\n",
       "      <td>1080.00</td>\n",
       "    </tr>\n",
       "    <tr>\n",
       "      <th>2019-02-28</th>\n",
       "      <td>5107.312889</td>\n",
       "      <td>4123.928441</td>\n",
       "      <td>264.231124</td>\n",
       "      <td>384.200000</td>\n",
       "      <td>5165.449694</td>\n",
       "      <td>11832.235167</td>\n",
       "      <td>1817.81</td>\n",
       "      <td>4450.89</td>\n",
       "      <td>867.915411</td>\n",
       "      <td>17289.127010</td>\n",
       "      <td>...</td>\n",
       "      <td>411.92</td>\n",
       "      <td>1107.880000</td>\n",
       "      <td>121.54</td>\n",
       "      <td>1402.56</td>\n",
       "      <td>373.77</td>\n",
       "      <td>450.421487</td>\n",
       "      <td>292.368806</td>\n",
       "      <td>1808.854841</td>\n",
       "      <td>16706.032030</td>\n",
       "      <td>1135.15</td>\n",
       "    </tr>\n",
       "    <tr>\n",
       "      <th>2019-03-31</th>\n",
       "      <td>5057.499116</td>\n",
       "      <td>4014.010000</td>\n",
       "      <td>286.280000</td>\n",
       "      <td>390.020000</td>\n",
       "      <td>5408.541770</td>\n",
       "      <td>11473.640000</td>\n",
       "      <td>1747.23</td>\n",
       "      <td>4376.72</td>\n",
       "      <td>771.663661</td>\n",
       "      <td>16739.323094</td>\n",
       "      <td>...</td>\n",
       "      <td>415.66</td>\n",
       "      <td>1102.520000</td>\n",
       "      <td>113.32</td>\n",
       "      <td>1435.11</td>\n",
       "      <td>375.12</td>\n",
       "      <td>453.026183</td>\n",
       "      <td>290.303358</td>\n",
       "      <td>1806.570077</td>\n",
       "      <td>17357.423109</td>\n",
       "      <td>1146.03</td>\n",
       "    </tr>\n",
       "    <tr>\n",
       "      <th>2019-04-30</th>\n",
       "      <td>4920.945549</td>\n",
       "      <td>4050.360000</td>\n",
       "      <td>321.507035</td>\n",
       "      <td>386.450000</td>\n",
       "      <td>5110.770000</td>\n",
       "      <td>10302.940000</td>\n",
       "      <td>1730.43</td>\n",
       "      <td>4213.82</td>\n",
       "      <td>795.852745</td>\n",
       "      <td>16593.430000</td>\n",
       "      <td>...</td>\n",
       "      <td>420.20</td>\n",
       "      <td>965.780000</td>\n",
       "      <td>111.53</td>\n",
       "      <td>1312.44</td>\n",
       "      <td>365.61</td>\n",
       "      <td>441.885372</td>\n",
       "      <td>292.203831</td>\n",
       "      <td>1791.345470</td>\n",
       "      <td>17148.552039</td>\n",
       "      <td>1148.32</td>\n",
       "    </tr>\n",
       "    <tr>\n",
       "      <th>2019-05-31</th>\n",
       "      <td>5117.491585</td>\n",
       "      <td>3991.860000</td>\n",
       "      <td>328.828223</td>\n",
       "      <td>397.010000</td>\n",
       "      <td>5133.950000</td>\n",
       "      <td>11127.720000</td>\n",
       "      <td>1691.35</td>\n",
       "      <td>4246.97</td>\n",
       "      <td>764.395745</td>\n",
       "      <td>17239.070273</td>\n",
       "      <td>...</td>\n",
       "      <td>424.29</td>\n",
       "      <td>929.360000</td>\n",
       "      <td>111.29</td>\n",
       "      <td>1487.28</td>\n",
       "      <td>356.33</td>\n",
       "      <td>450.371311</td>\n",
       "      <td>294.305227</td>\n",
       "      <td>1863.882470</td>\n",
       "      <td>17149.576152</td>\n",
       "      <td>1159.85</td>\n",
       "    </tr>\n",
       "    <tr>\n",
       "      <th>2019-06-30</th>\n",
       "      <td>4670.680000</td>\n",
       "      <td>3645.130000</td>\n",
       "      <td>292.800000</td>\n",
       "      <td>381.550000</td>\n",
       "      <td>4543.100190</td>\n",
       "      <td>9951.760000</td>\n",
       "      <td>1651.96</td>\n",
       "      <td>3969.08</td>\n",
       "      <td>768.828040</td>\n",
       "      <td>15748.069603</td>\n",
       "      <td>...</td>\n",
       "      <td>377.70</td>\n",
       "      <td>851.310000</td>\n",
       "      <td>108.39</td>\n",
       "      <td>1447.12</td>\n",
       "      <td>358.04</td>\n",
       "      <td>428.268463</td>\n",
       "      <td>288.249798</td>\n",
       "      <td>1819.109965</td>\n",
       "      <td>15826.439900</td>\n",
       "      <td>1091.96</td>\n",
       "    </tr>\n",
       "    <tr>\n",
       "      <th>2019-07-31</th>\n",
       "      <td>4964.024000</td>\n",
       "      <td>3740.900000</td>\n",
       "      <td>298.430000</td>\n",
       "      <td>391.830000</td>\n",
       "      <td>4733.170000</td>\n",
       "      <td>10349.470000</td>\n",
       "      <td>1699.23</td>\n",
       "      <td>4145.27</td>\n",
       "      <td>748.989224</td>\n",
       "      <td>17174.241144</td>\n",
       "      <td>...</td>\n",
       "      <td>388.00</td>\n",
       "      <td>844.460000</td>\n",
       "      <td>113.78</td>\n",
       "      <td>1363.13</td>\n",
       "      <td>368.47</td>\n",
       "      <td>438.398572</td>\n",
       "      <td>292.158141</td>\n",
       "      <td>1943.554567</td>\n",
       "      <td>15485.286899</td>\n",
       "      <td>1112.03</td>\n",
       "    </tr>\n",
       "    <tr>\n",
       "      <th>2019-08-31</th>\n",
       "      <td>4710.390000</td>\n",
       "      <td>3450.110000</td>\n",
       "      <td>275.338652</td>\n",
       "      <td>351.719539</td>\n",
       "      <td>4530.181316</td>\n",
       "      <td>8937.990000</td>\n",
       "      <td>1506.53</td>\n",
       "      <td>3815.12</td>\n",
       "      <td>724.687002</td>\n",
       "      <td>16570.444243</td>\n",
       "      <td>...</td>\n",
       "      <td>353.53</td>\n",
       "      <td>901.270000</td>\n",
       "      <td>98.33</td>\n",
       "      <td>1283.44</td>\n",
       "      <td>350.47</td>\n",
       "      <td>408.586038</td>\n",
       "      <td>274.351496</td>\n",
       "      <td>1830.074449</td>\n",
       "      <td>14554.027240</td>\n",
       "      <td>1106.70</td>\n",
       "    </tr>\n",
       "    <tr>\n",
       "      <th>2019-09-30</th>\n",
       "      <td>4606.330000</td>\n",
       "      <td>3251.380000</td>\n",
       "      <td>264.374935</td>\n",
       "      <td>354.544495</td>\n",
       "      <td>4459.497616</td>\n",
       "      <td>8538.840000</td>\n",
       "      <td>1543.00</td>\n",
       "      <td>3638.72</td>\n",
       "      <td>711.913788</td>\n",
       "      <td>16344.658627</td>\n",
       "      <td>...</td>\n",
       "      <td>341.96</td>\n",
       "      <td>855.619877</td>\n",
       "      <td>94.16</td>\n",
       "      <td>1290.76</td>\n",
       "      <td>342.16</td>\n",
       "      <td>382.174883</td>\n",
       "      <td>259.530399</td>\n",
       "      <td>1734.186704</td>\n",
       "      <td>12936.806535</td>\n",
       "      <td>1118.23</td>\n",
       "    </tr>\n",
       "    <tr>\n",
       "      <th>2019-10-31</th>\n",
       "      <td>4896.770000</td>\n",
       "      <td>3453.540000</td>\n",
       "      <td>290.081304</td>\n",
       "      <td>357.093079</td>\n",
       "      <td>4515.245977</td>\n",
       "      <td>8978.690000</td>\n",
       "      <td>1522.35</td>\n",
       "      <td>3778.30</td>\n",
       "      <td>752.582414</td>\n",
       "      <td>17205.100976</td>\n",
       "      <td>...</td>\n",
       "      <td>349.36</td>\n",
       "      <td>822.690689</td>\n",
       "      <td>100.16</td>\n",
       "      <td>1265.60</td>\n",
       "      <td>347.23</td>\n",
       "      <td>393.818027</td>\n",
       "      <td>275.106996</td>\n",
       "      <td>1760.252959</td>\n",
       "      <td>13164.991639</td>\n",
       "      <td>1138.31</td>\n",
       "    </tr>\n",
       "    <tr>\n",
       "      <th>2019-11-30</th>\n",
       "      <td>4990.318201</td>\n",
       "      <td>3410.150000</td>\n",
       "      <td>291.319174</td>\n",
       "      <td>333.109555</td>\n",
       "      <td>4540.193001</td>\n",
       "      <td>10792.640000</td>\n",
       "      <td>1507.52</td>\n",
       "      <td>3508.32</td>\n",
       "      <td>705.361115</td>\n",
       "      <td>18470.497351</td>\n",
       "      <td>...</td>\n",
       "      <td>350.33</td>\n",
       "      <td>824.094097</td>\n",
       "      <td>93.38</td>\n",
       "      <td>1280.08</td>\n",
       "      <td>339.66</td>\n",
       "      <td>392.605919</td>\n",
       "      <td>247.739340</td>\n",
       "      <td>1692.539561</td>\n",
       "      <td>12856.267382</td>\n",
       "      <td>1166.28</td>\n",
       "    </tr>\n",
       "    <tr>\n",
       "      <th>2019-12-31</th>\n",
       "      <td>4930.530000</td>\n",
       "      <td>3431.140000</td>\n",
       "      <td>290.577289</td>\n",
       "      <td>328.278059</td>\n",
       "      <td>4429.031605</td>\n",
       "      <td>10229.680000</td>\n",
       "      <td>1468.46</td>\n",
       "      <td>3605.86</td>\n",
       "      <td>678.878662</td>\n",
       "      <td>18261.549039</td>\n",
       "      <td>...</td>\n",
       "      <td>355.86</td>\n",
       "      <td>897.631982</td>\n",
       "      <td>91.72</td>\n",
       "      <td>1298.96</td>\n",
       "      <td>348.64</td>\n",
       "      <td>402.947338</td>\n",
       "      <td>246.803943</td>\n",
       "      <td>1704.296920</td>\n",
       "      <td>13478.143605</td>\n",
       "      <td>1176.93</td>\n",
       "    </tr>\n",
       "    <tr>\n",
       "      <th>2020-01-31</th>\n",
       "      <td>5292.901780</td>\n",
       "      <td>3480.120000</td>\n",
       "      <td>284.210794</td>\n",
       "      <td>337.158755</td>\n",
       "      <td>4556.331180</td>\n",
       "      <td>11031.000000</td>\n",
       "      <td>1489.51</td>\n",
       "      <td>3693.15</td>\n",
       "      <td>697.607802</td>\n",
       "      <td>20359.206836</td>\n",
       "      <td>...</td>\n",
       "      <td>369.33</td>\n",
       "      <td>848.878704</td>\n",
       "      <td>94.07</td>\n",
       "      <td>1330.05</td>\n",
       "      <td>345.69</td>\n",
       "      <td>410.592019</td>\n",
       "      <td>247.766453</td>\n",
       "      <td>1734.740018</td>\n",
       "      <td>13648.810954</td>\n",
       "      <td>1219.07</td>\n",
       "    </tr>\n",
       "    <tr>\n",
       "      <th>2020-02-29</th>\n",
       "      <td>5179.380729</td>\n",
       "      <td>3295.050000</td>\n",
       "      <td>253.803148</td>\n",
       "      <td>352.950000</td>\n",
       "      <td>4294.622406</td>\n",
       "      <td>10902.300000</td>\n",
       "      <td>1408.72</td>\n",
       "      <td>3395.63</td>\n",
       "      <td>658.166330</td>\n",
       "      <td>20216.337749</td>\n",
       "      <td>...</td>\n",
       "      <td>350.09</td>\n",
       "      <td>828.264673</td>\n",
       "      <td>86.48</td>\n",
       "      <td>1250.76</td>\n",
       "      <td>329.30</td>\n",
       "      <td>374.792414</td>\n",
       "      <td>227.014611</td>\n",
       "      <td>1619.190145</td>\n",
       "      <td>12430.337625</td>\n",
       "      <td>1202.74</td>\n",
       "    </tr>\n",
       "  </tbody>\n",
       "</table>\n",
       "<p>14 rows × 22 columns</p>\n",
       "</div>"
      ],
      "text/plain": [
       "                    제조업         음식료품        섬유의복        종이목재           화학  \\\n",
       "time                                                                        \n",
       "2019-01-31  4579.620000  3907.933949  247.084996  357.660000  4782.249480   \n",
       "2019-02-28  5107.312889  4123.928441  264.231124  384.200000  5165.449694   \n",
       "2019-03-31  5057.499116  4014.010000  286.280000  390.020000  5408.541770   \n",
       "2019-04-30  4920.945549  4050.360000  321.507035  386.450000  5110.770000   \n",
       "2019-05-31  5117.491585  3991.860000  328.828223  397.010000  5133.950000   \n",
       "2019-06-30  4670.680000  3645.130000  292.800000  381.550000  4543.100190   \n",
       "2019-07-31  4964.024000  3740.900000  298.430000  391.830000  4733.170000   \n",
       "2019-08-31  4710.390000  3450.110000  275.338652  351.719539  4530.181316   \n",
       "2019-09-30  4606.330000  3251.380000  264.374935  354.544495  4459.497616   \n",
       "2019-10-31  4896.770000  3453.540000  290.081304  357.093079  4515.245977   \n",
       "2019-11-30  4990.318201  3410.150000  291.319174  333.109555  4540.193001   \n",
       "2019-12-31  4930.530000  3431.140000  290.577289  328.278059  4429.031605   \n",
       "2020-01-31  5292.901780  3480.120000  284.210794  337.158755  4556.331180   \n",
       "2020-02-29  5179.380729  3295.050000  253.803148  352.950000  4294.622406   \n",
       "\n",
       "                     의약품    비금속광물     철강금속          기계          전기전자  ...  \\\n",
       "time                                                                  ...   \n",
       "2019-01-31  11626.690000  1661.05  4043.12  738.343602  14107.500651  ...   \n",
       "2019-02-28  11832.235167  1817.81  4450.89  867.915411  17289.127010  ...   \n",
       "2019-03-31  11473.640000  1747.23  4376.72  771.663661  16739.323094  ...   \n",
       "2019-04-30  10302.940000  1730.43  4213.82  795.852745  16593.430000  ...   \n",
       "2019-05-31  11127.720000  1691.35  4246.97  764.395745  17239.070273  ...   \n",
       "2019-06-30   9951.760000  1651.96  3969.08  768.828040  15748.069603  ...   \n",
       "2019-07-31  10349.470000  1699.23  4145.27  748.989224  17174.241144  ...   \n",
       "2019-08-31   8937.990000  1506.53  3815.12  724.687002  16570.444243  ...   \n",
       "2019-09-30   8538.840000  1543.00  3638.72  711.913788  16344.658627  ...   \n",
       "2019-10-31   8978.690000  1522.35  3778.30  752.582414  17205.100976  ...   \n",
       "2019-11-30  10792.640000  1507.52  3508.32  705.361115  18470.497351  ...   \n",
       "2019-12-31  10229.680000  1468.46  3605.86  678.878662  18261.549039  ...   \n",
       "2020-01-31  11031.000000  1489.51  3693.15  697.607802  20359.206836  ...   \n",
       "2020-02-29  10902.300000  1408.72  3395.63  658.166330  20216.337749  ...   \n",
       "\n",
       "               유통업        전기가스업     건설업    운수창고업     통신업         금융업  \\\n",
       "time                                                                   \n",
       "2019-01-31  393.50  1050.600000  112.60  1341.29  397.99  434.405401   \n",
       "2019-02-28  411.92  1107.880000  121.54  1402.56  373.77  450.421487   \n",
       "2019-03-31  415.66  1102.520000  113.32  1435.11  375.12  453.026183   \n",
       "2019-04-30  420.20   965.780000  111.53  1312.44  365.61  441.885372   \n",
       "2019-05-31  424.29   929.360000  111.29  1487.28  356.33  450.371311   \n",
       "2019-06-30  377.70   851.310000  108.39  1447.12  358.04  428.268463   \n",
       "2019-07-31  388.00   844.460000  113.78  1363.13  368.47  438.398572   \n",
       "2019-08-31  353.53   901.270000   98.33  1283.44  350.47  408.586038   \n",
       "2019-09-30  341.96   855.619877   94.16  1290.76  342.16  382.174883   \n",
       "2019-10-31  349.36   822.690689  100.16  1265.60  347.23  393.818027   \n",
       "2019-11-30  350.33   824.094097   93.38  1280.08  339.66  392.605919   \n",
       "2019-12-31  355.86   897.631982   91.72  1298.96  348.64  402.947338   \n",
       "2020-01-31  369.33   848.878704   94.07  1330.05  345.69  410.592019   \n",
       "2020-02-29  350.09   828.264673   86.48  1250.76  329.30  374.792414   \n",
       "\n",
       "                    은행           증권            보험     서비스업  \n",
       "time                                                        \n",
       "2019-01-31  298.840542  1689.914681  16366.798971  1080.00  \n",
       "2019-02-28  292.368806  1808.854841  16706.032030  1135.15  \n",
       "2019-03-31  290.303358  1806.570077  17357.423109  1146.03  \n",
       "2019-04-30  292.203831  1791.345470  17148.552039  1148.32  \n",
       "2019-05-31  294.305227  1863.882470  17149.576152  1159.85  \n",
       "2019-06-30  288.249798  1819.109965  15826.439900  1091.96  \n",
       "2019-07-31  292.158141  1943.554567  15485.286899  1112.03  \n",
       "2019-08-31  274.351496  1830.074449  14554.027240  1106.70  \n",
       "2019-09-30  259.530399  1734.186704  12936.806535  1118.23  \n",
       "2019-10-31  275.106996  1760.252959  13164.991639  1138.31  \n",
       "2019-11-30  247.739340  1692.539561  12856.267382  1166.28  \n",
       "2019-12-31  246.803943  1704.296920  13478.143605  1176.93  \n",
       "2020-01-31  247.766453  1734.740018  13648.810954  1219.07  \n",
       "2020-02-29  227.014611  1619.190145  12430.337625  1202.74  \n",
       "\n",
       "[14 rows x 22 columns]"
      ]
     },
     "execution_count": 172,
     "metadata": {},
     "output_type": "execute_result"
    }
   ],
   "source": [
    "predict"
   ]
  },
  {
   "cell_type": "code",
   "execution_count": 173,
   "metadata": {},
   "outputs": [
    {
     "data": {
      "text/html": [
       "<div>\n",
       "<style scoped>\n",
       "    .dataframe tbody tr th:only-of-type {\n",
       "        vertical-align: middle;\n",
       "    }\n",
       "\n",
       "    .dataframe tbody tr th {\n",
       "        vertical-align: top;\n",
       "    }\n",
       "\n",
       "    .dataframe thead th {\n",
       "        text-align: right;\n",
       "    }\n",
       "</style>\n",
       "<table border=\"1\" class=\"dataframe\">\n",
       "  <thead>\n",
       "    <tr style=\"text-align: right;\">\n",
       "      <th></th>\n",
       "      <th>제조업</th>\n",
       "      <th>음식료품</th>\n",
       "      <th>섬유의복</th>\n",
       "      <th>종이목재</th>\n",
       "      <th>화학</th>\n",
       "      <th>의약품</th>\n",
       "      <th>비금속광물</th>\n",
       "      <th>철강금속</th>\n",
       "      <th>기계</th>\n",
       "      <th>전기전자</th>\n",
       "      <th>...</th>\n",
       "      <th>유통업</th>\n",
       "      <th>전기가스업</th>\n",
       "      <th>건설업</th>\n",
       "      <th>운수창고업</th>\n",
       "      <th>통신업</th>\n",
       "      <th>금융업</th>\n",
       "      <th>은행</th>\n",
       "      <th>증권</th>\n",
       "      <th>보험</th>\n",
       "      <th>서비스업</th>\n",
       "    </tr>\n",
       "    <tr>\n",
       "      <th>time</th>\n",
       "      <th></th>\n",
       "      <th></th>\n",
       "      <th></th>\n",
       "      <th></th>\n",
       "      <th></th>\n",
       "      <th></th>\n",
       "      <th></th>\n",
       "      <th></th>\n",
       "      <th></th>\n",
       "      <th></th>\n",
       "      <th></th>\n",
       "      <th></th>\n",
       "      <th></th>\n",
       "      <th></th>\n",
       "      <th></th>\n",
       "      <th></th>\n",
       "      <th></th>\n",
       "      <th></th>\n",
       "      <th></th>\n",
       "      <th></th>\n",
       "      <th></th>\n",
       "    </tr>\n",
       "  </thead>\n",
       "  <tbody>\n",
       "    <tr>\n",
       "      <th>2019-01-31</th>\n",
       "      <td>5087.28</td>\n",
       "      <td>4047.11</td>\n",
       "      <td>267.78</td>\n",
       "      <td>384.20</td>\n",
       "      <td>5142.43</td>\n",
       "      <td>11773.39</td>\n",
       "      <td>1817.81</td>\n",
       "      <td>4450.89</td>\n",
       "      <td>848.14</td>\n",
       "      <td>16947.32</td>\n",
       "      <td>...</td>\n",
       "      <td>411.92</td>\n",
       "      <td>1107.88</td>\n",
       "      <td>121.54</td>\n",
       "      <td>1402.56</td>\n",
       "      <td>373.77</td>\n",
       "      <td>451.09</td>\n",
       "      <td>293.77</td>\n",
       "      <td>1833.75</td>\n",
       "      <td>16780.72</td>\n",
       "      <td>1135.15</td>\n",
       "    </tr>\n",
       "    <tr>\n",
       "      <th>2019-02-28</th>\n",
       "      <td>5037.85</td>\n",
       "      <td>4014.01</td>\n",
       "      <td>286.28</td>\n",
       "      <td>390.02</td>\n",
       "      <td>5275.01</td>\n",
       "      <td>11473.64</td>\n",
       "      <td>1747.23</td>\n",
       "      <td>4376.72</td>\n",
       "      <td>796.47</td>\n",
       "      <td>16675.95</td>\n",
       "      <td>...</td>\n",
       "      <td>415.66</td>\n",
       "      <td>1102.52</td>\n",
       "      <td>113.32</td>\n",
       "      <td>1435.11</td>\n",
       "      <td>375.12</td>\n",
       "      <td>453.81</td>\n",
       "      <td>291.58</td>\n",
       "      <td>1801.49</td>\n",
       "      <td>17463.20</td>\n",
       "      <td>1146.03</td>\n",
       "    </tr>\n",
       "    <tr>\n",
       "      <th>2019-03-31</th>\n",
       "      <td>4902.15</td>\n",
       "      <td>4050.36</td>\n",
       "      <td>312.50</td>\n",
       "      <td>386.45</td>\n",
       "      <td>5110.77</td>\n",
       "      <td>10302.94</td>\n",
       "      <td>1730.43</td>\n",
       "      <td>4213.82</td>\n",
       "      <td>753.79</td>\n",
       "      <td>16593.43</td>\n",
       "      <td>...</td>\n",
       "      <td>420.20</td>\n",
       "      <td>965.78</td>\n",
       "      <td>111.53</td>\n",
       "      <td>1312.44</td>\n",
       "      <td>365.61</td>\n",
       "      <td>442.16</td>\n",
       "      <td>293.58</td>\n",
       "      <td>1789.45</td>\n",
       "      <td>17090.50</td>\n",
       "      <td>1148.32</td>\n",
       "    </tr>\n",
       "    <tr>\n",
       "      <th>2019-04-30</th>\n",
       "      <td>5097.73</td>\n",
       "      <td>3991.86</td>\n",
       "      <td>318.99</td>\n",
       "      <td>397.01</td>\n",
       "      <td>5133.95</td>\n",
       "      <td>11127.72</td>\n",
       "      <td>1691.35</td>\n",
       "      <td>4246.97</td>\n",
       "      <td>791.51</td>\n",
       "      <td>17173.67</td>\n",
       "      <td>...</td>\n",
       "      <td>424.29</td>\n",
       "      <td>929.36</td>\n",
       "      <td>111.29</td>\n",
       "      <td>1487.28</td>\n",
       "      <td>356.33</td>\n",
       "      <td>451.03</td>\n",
       "      <td>295.79</td>\n",
       "      <td>1877.80</td>\n",
       "      <td>17160.48</td>\n",
       "      <td>1159.85</td>\n",
       "    </tr>\n",
       "    <tr>\n",
       "      <th>2019-05-31</th>\n",
       "      <td>4670.68</td>\n",
       "      <td>3645.13</td>\n",
       "      <td>292.80</td>\n",
       "      <td>381.55</td>\n",
       "      <td>4669.26</td>\n",
       "      <td>9951.76</td>\n",
       "      <td>1651.96</td>\n",
       "      <td>3969.08</td>\n",
       "      <td>737.95</td>\n",
       "      <td>15669.14</td>\n",
       "      <td>...</td>\n",
       "      <td>377.70</td>\n",
       "      <td>851.31</td>\n",
       "      <td>108.39</td>\n",
       "      <td>1447.12</td>\n",
       "      <td>358.04</td>\n",
       "      <td>427.92</td>\n",
       "      <td>289.39</td>\n",
       "      <td>1808.10</td>\n",
       "      <td>15579.44</td>\n",
       "      <td>1091.96</td>\n",
       "    </tr>\n",
       "    <tr>\n",
       "      <th>2019-06-30</th>\n",
       "      <td>4945.30</td>\n",
       "      <td>3740.90</td>\n",
       "      <td>298.43</td>\n",
       "      <td>391.83</td>\n",
       "      <td>4733.17</td>\n",
       "      <td>10349.47</td>\n",
       "      <td>1699.23</td>\n",
       "      <td>4145.27</td>\n",
       "      <td>765.30</td>\n",
       "      <td>17071.05</td>\n",
       "      <td>...</td>\n",
       "      <td>388.00</td>\n",
       "      <td>844.46</td>\n",
       "      <td>113.78</td>\n",
       "      <td>1363.13</td>\n",
       "      <td>368.47</td>\n",
       "      <td>438.51</td>\n",
       "      <td>293.51</td>\n",
       "      <td>1969.14</td>\n",
       "      <td>15468.15</td>\n",
       "      <td>1112.03</td>\n",
       "    </tr>\n",
       "    <tr>\n",
       "      <th>2019-07-31</th>\n",
       "      <td>4710.39</td>\n",
       "      <td>3450.11</td>\n",
       "      <td>285.99</td>\n",
       "      <td>343.65</td>\n",
       "      <td>4525.94</td>\n",
       "      <td>8937.99</td>\n",
       "      <td>1506.53</td>\n",
       "      <td>3815.12</td>\n",
       "      <td>716.77</td>\n",
       "      <td>16689.78</td>\n",
       "      <td>...</td>\n",
       "      <td>353.53</td>\n",
       "      <td>901.27</td>\n",
       "      <td>98.33</td>\n",
       "      <td>1283.44</td>\n",
       "      <td>350.47</td>\n",
       "      <td>407.35</td>\n",
       "      <td>274.70</td>\n",
       "      <td>1803.42</td>\n",
       "      <td>14388.27</td>\n",
       "      <td>1106.70</td>\n",
       "    </tr>\n",
       "    <tr>\n",
       "      <th>2019-08-31</th>\n",
       "      <td>4606.33</td>\n",
       "      <td>3251.38</td>\n",
       "      <td>266.49</td>\n",
       "      <td>364.67</td>\n",
       "      <td>4369.96</td>\n",
       "      <td>8538.84</td>\n",
       "      <td>1543.00</td>\n",
       "      <td>3638.72</td>\n",
       "      <td>709.21</td>\n",
       "      <td>16277.85</td>\n",
       "      <td>...</td>\n",
       "      <td>341.96</td>\n",
       "      <td>827.50</td>\n",
       "      <td>94.16</td>\n",
       "      <td>1290.76</td>\n",
       "      <td>342.16</td>\n",
       "      <td>379.80</td>\n",
       "      <td>259.04</td>\n",
       "      <td>1721.07</td>\n",
       "      <td>12879.06</td>\n",
       "      <td>1118.23</td>\n",
       "    </tr>\n",
       "    <tr>\n",
       "      <th>2019-09-30</th>\n",
       "      <td>4896.77</td>\n",
       "      <td>3453.54</td>\n",
       "      <td>285.42</td>\n",
       "      <td>348.74</td>\n",
       "      <td>4461.52</td>\n",
       "      <td>8978.69</td>\n",
       "      <td>1522.35</td>\n",
       "      <td>3778.30</td>\n",
       "      <td>744.99</td>\n",
       "      <td>17780.19</td>\n",
       "      <td>...</td>\n",
       "      <td>349.36</td>\n",
       "      <td>837.46</td>\n",
       "      <td>100.16</td>\n",
       "      <td>1265.60</td>\n",
       "      <td>347.23</td>\n",
       "      <td>391.95</td>\n",
       "      <td>275.50</td>\n",
       "      <td>1767.69</td>\n",
       "      <td>13150.57</td>\n",
       "      <td>1138.31</td>\n",
       "    </tr>\n",
       "    <tr>\n",
       "      <th>2019-10-31</th>\n",
       "      <td>4971.85</td>\n",
       "      <td>3410.15</td>\n",
       "      <td>282.12</td>\n",
       "      <td>338.47</td>\n",
       "      <td>4559.73</td>\n",
       "      <td>10792.64</td>\n",
       "      <td>1507.52</td>\n",
       "      <td>3508.32</td>\n",
       "      <td>698.16</td>\n",
       "      <td>18208.01</td>\n",
       "      <td>...</td>\n",
       "      <td>350.33</td>\n",
       "      <td>825.45</td>\n",
       "      <td>93.38</td>\n",
       "      <td>1280.08</td>\n",
       "      <td>339.66</td>\n",
       "      <td>390.70</td>\n",
       "      <td>246.57</td>\n",
       "      <td>1678.24</td>\n",
       "      <td>12886.06</td>\n",
       "      <td>1166.28</td>\n",
       "    </tr>\n",
       "    <tr>\n",
       "      <th>2019-11-30</th>\n",
       "      <td>4930.53</td>\n",
       "      <td>3431.14</td>\n",
       "      <td>287.74</td>\n",
       "      <td>330.44</td>\n",
       "      <td>4479.44</td>\n",
       "      <td>10229.68</td>\n",
       "      <td>1468.46</td>\n",
       "      <td>3605.86</td>\n",
       "      <td>673.26</td>\n",
       "      <td>18186.96</td>\n",
       "      <td>...</td>\n",
       "      <td>355.86</td>\n",
       "      <td>878.30</td>\n",
       "      <td>91.72</td>\n",
       "      <td>1298.96</td>\n",
       "      <td>348.64</td>\n",
       "      <td>401.50</td>\n",
       "      <td>245.59</td>\n",
       "      <td>1709.26</td>\n",
       "      <td>13464.64</td>\n",
       "      <td>1176.93</td>\n",
       "    </tr>\n",
       "    <tr>\n",
       "      <th>2019-12-31</th>\n",
       "      <td>5273.05</td>\n",
       "      <td>3480.12</td>\n",
       "      <td>289.14</td>\n",
       "      <td>330.11</td>\n",
       "      <td>4591.69</td>\n",
       "      <td>11031.00</td>\n",
       "      <td>1489.51</td>\n",
       "      <td>3693.15</td>\n",
       "      <td>701.59</td>\n",
       "      <td>20207.86</td>\n",
       "      <td>...</td>\n",
       "      <td>369.33</td>\n",
       "      <td>876.02</td>\n",
       "      <td>94.07</td>\n",
       "      <td>1330.05</td>\n",
       "      <td>345.69</td>\n",
       "      <td>409.49</td>\n",
       "      <td>246.62</td>\n",
       "      <td>1739.59</td>\n",
       "      <td>13698.26</td>\n",
       "      <td>1219.07</td>\n",
       "    </tr>\n",
       "    <tr>\n",
       "      <th>2020-01-31</th>\n",
       "      <td>5160.22</td>\n",
       "      <td>3295.05</td>\n",
       "      <td>259.04</td>\n",
       "      <td>352.95</td>\n",
       "      <td>4267.39</td>\n",
       "      <td>10902.30</td>\n",
       "      <td>1408.72</td>\n",
       "      <td>3395.63</td>\n",
       "      <td>649.76</td>\n",
       "      <td>20403.97</td>\n",
       "      <td>...</td>\n",
       "      <td>350.09</td>\n",
       "      <td>794.12</td>\n",
       "      <td>86.48</td>\n",
       "      <td>1250.76</td>\n",
       "      <td>329.30</td>\n",
       "      <td>372.14</td>\n",
       "      <td>224.73</td>\n",
       "      <td>1596.21</td>\n",
       "      <td>12249.88</td>\n",
       "      <td>1202.74</td>\n",
       "    </tr>\n",
       "    <tr>\n",
       "      <th>2020-02-29</th>\n",
       "      <td>4893.83</td>\n",
       "      <td>3178.68</td>\n",
       "      <td>232.81</td>\n",
       "      <td>320.97</td>\n",
       "      <td>4037.85</td>\n",
       "      <td>10565.78</td>\n",
       "      <td>1340.51</td>\n",
       "      <td>3147.69</td>\n",
       "      <td>608.82</td>\n",
       "      <td>19573.08</td>\n",
       "      <td>...</td>\n",
       "      <td>324.40</td>\n",
       "      <td>678.05</td>\n",
       "      <td>78.51</td>\n",
       "      <td>1226.31</td>\n",
       "      <td>310.52</td>\n",
       "      <td>334.07</td>\n",
       "      <td>198.91</td>\n",
       "      <td>1467.80</td>\n",
       "      <td>11085.54</td>\n",
       "      <td>1129.52</td>\n",
       "    </tr>\n",
       "  </tbody>\n",
       "</table>\n",
       "<p>14 rows × 22 columns</p>\n",
       "</div>"
      ],
      "text/plain": [
       "                제조업     음식료품    섬유의복    종이목재       화학       의약품    비금속광물  \\\n",
       "time                                                                       \n",
       "2019-01-31  5087.28  4047.11  267.78  384.20  5142.43  11773.39  1817.81   \n",
       "2019-02-28  5037.85  4014.01  286.28  390.02  5275.01  11473.64  1747.23   \n",
       "2019-03-31  4902.15  4050.36  312.50  386.45  5110.77  10302.94  1730.43   \n",
       "2019-04-30  5097.73  3991.86  318.99  397.01  5133.95  11127.72  1691.35   \n",
       "2019-05-31  4670.68  3645.13  292.80  381.55  4669.26   9951.76  1651.96   \n",
       "2019-06-30  4945.30  3740.90  298.43  391.83  4733.17  10349.47  1699.23   \n",
       "2019-07-31  4710.39  3450.11  285.99  343.65  4525.94   8937.99  1506.53   \n",
       "2019-08-31  4606.33  3251.38  266.49  364.67  4369.96   8538.84  1543.00   \n",
       "2019-09-30  4896.77  3453.54  285.42  348.74  4461.52   8978.69  1522.35   \n",
       "2019-10-31  4971.85  3410.15  282.12  338.47  4559.73  10792.64  1507.52   \n",
       "2019-11-30  4930.53  3431.14  287.74  330.44  4479.44  10229.68  1468.46   \n",
       "2019-12-31  5273.05  3480.12  289.14  330.11  4591.69  11031.00  1489.51   \n",
       "2020-01-31  5160.22  3295.05  259.04  352.95  4267.39  10902.30  1408.72   \n",
       "2020-02-29  4893.83  3178.68  232.81  320.97  4037.85  10565.78  1340.51   \n",
       "\n",
       "               철강금속      기계      전기전자  ...     유통업    전기가스업     건설업    운수창고업  \\\n",
       "time                                   ...                                     \n",
       "2019-01-31  4450.89  848.14  16947.32  ...  411.92  1107.88  121.54  1402.56   \n",
       "2019-02-28  4376.72  796.47  16675.95  ...  415.66  1102.52  113.32  1435.11   \n",
       "2019-03-31  4213.82  753.79  16593.43  ...  420.20   965.78  111.53  1312.44   \n",
       "2019-04-30  4246.97  791.51  17173.67  ...  424.29   929.36  111.29  1487.28   \n",
       "2019-05-31  3969.08  737.95  15669.14  ...  377.70   851.31  108.39  1447.12   \n",
       "2019-06-30  4145.27  765.30  17071.05  ...  388.00   844.46  113.78  1363.13   \n",
       "2019-07-31  3815.12  716.77  16689.78  ...  353.53   901.27   98.33  1283.44   \n",
       "2019-08-31  3638.72  709.21  16277.85  ...  341.96   827.50   94.16  1290.76   \n",
       "2019-09-30  3778.30  744.99  17780.19  ...  349.36   837.46  100.16  1265.60   \n",
       "2019-10-31  3508.32  698.16  18208.01  ...  350.33   825.45   93.38  1280.08   \n",
       "2019-11-30  3605.86  673.26  18186.96  ...  355.86   878.30   91.72  1298.96   \n",
       "2019-12-31  3693.15  701.59  20207.86  ...  369.33   876.02   94.07  1330.05   \n",
       "2020-01-31  3395.63  649.76  20403.97  ...  350.09   794.12   86.48  1250.76   \n",
       "2020-02-29  3147.69  608.82  19573.08  ...  324.40   678.05   78.51  1226.31   \n",
       "\n",
       "               통신업     금융업      은행       증권        보험     서비스업  \n",
       "time                                                            \n",
       "2019-01-31  373.77  451.09  293.77  1833.75  16780.72  1135.15  \n",
       "2019-02-28  375.12  453.81  291.58  1801.49  17463.20  1146.03  \n",
       "2019-03-31  365.61  442.16  293.58  1789.45  17090.50  1148.32  \n",
       "2019-04-30  356.33  451.03  295.79  1877.80  17160.48  1159.85  \n",
       "2019-05-31  358.04  427.92  289.39  1808.10  15579.44  1091.96  \n",
       "2019-06-30  368.47  438.51  293.51  1969.14  15468.15  1112.03  \n",
       "2019-07-31  350.47  407.35  274.70  1803.42  14388.27  1106.70  \n",
       "2019-08-31  342.16  379.80  259.04  1721.07  12879.06  1118.23  \n",
       "2019-09-30  347.23  391.95  275.50  1767.69  13150.57  1138.31  \n",
       "2019-10-31  339.66  390.70  246.57  1678.24  12886.06  1166.28  \n",
       "2019-11-30  348.64  401.50  245.59  1709.26  13464.64  1176.93  \n",
       "2019-12-31  345.69  409.49  246.62  1739.59  13698.26  1219.07  \n",
       "2020-01-31  329.30  372.14  224.73  1596.21  12249.88  1202.74  \n",
       "2020-02-29  310.52  334.07  198.91  1467.80  11085.54  1129.52  \n",
       "\n",
       "[14 rows x 22 columns]"
      ]
     },
     "execution_count": 173,
     "metadata": {},
     "output_type": "execute_result"
    }
   ],
   "source": [
    "X_valid"
   ]
  },
  {
   "attachments": {},
   "cell_type": "markdown",
   "metadata": {},
   "source": [
    "---\n",
    "#### 미래 예측 완료\n",
    "#### train 구간만 사용한 포트폴리오와 예측 구간까지 사용한 포트폴리오의 차이를 확인할 것임\n",
    "#### train 구간이 움직일때 포트폴리오를 다시 최적화 할것임.\n",
    "#### 즉 한달 주기로 포트폴리오를 다시 구성한다고 생각하면 될것.\n",
    "#### 수수료는 없다고 가정\n",
    "#### 처음 주식을 구매하고 주식을 전부 판매하고 다시 주식을 구매하는 것으로 돈을 계속 계산할 것임"
   ]
  },
  {
   "cell_type": "code",
   "execution_count": 7,
   "metadata": {},
   "outputs": [],
   "source": [
    "weights = np.ones(22) # 초기에 가중치를 1로 설정\n",
    "weights = weights/22 # 이후 동일하게 1/22으로 나눠서 설정 (가중치 합은 항상 1)\n",
    "\n",
    "returns=X_train.pct_change() # 단순 수익률 계산 => (다음날 값 +- 기준일 값)/기준일 값 으로 수익률 나옵니다.\n",
    "\n",
    "cov_matrix_annual=returns.cov()*12 # 데이터 기준이 DAY가 아니라 MONTH이므로 12를 곱해 연간 수익률로 계산\n",
    "\n",
    "port_variance=np.dot(weights.T, np.dot(cov_matrix_annual, weights)) # 포트폴리오 분산의 기대값 = WT * (공분산{= 시그마}) * W를 코드로 옆처럼 나타냄\n",
    "\n",
    "port_volatility=np.sqrt(port_variance) # 포트폴리오 변동성의 기대값 = SQRT(WT * 공분산(=시그마) * W) // 그냥 표준편차 = 변동성\n",
    "\n",
    "portfolioSimpleAnnualReturn=np.sum(returns.mean()*weights)*12 # 연간 수익률 계산 DAY가 아니라 MONTH기준이므로 12곱하면 됨"
   ]
  },
  {
   "cell_type": "code",
   "execution_count": 8,
   "metadata": {},
   "outputs": [],
   "source": [
    "percent_var=str(round(port_variance,2)*100)+'%'\n",
    "percent_vol=str(round(port_volatility,2)*100)+'%'\n",
    "percent_ret=str(round(portfolioSimpleAnnualReturn,2)*100)+'%'"
   ]
  },
  {
   "cell_type": "code",
   "execution_count": 9,
   "metadata": {},
   "outputs": [
    {
     "name": "stdout",
     "output_type": "stream",
     "text": [
      "Expected Annual Return :9.0%\n",
      "Annual Volatility/risk :19.0%\n",
      "Annual Variance :3.0%\n"
     ]
    }
   ],
   "source": [
    "print('Expected Annual Return :'+ percent_ret )\n",
    "print('Annual Volatility/risk :'+ percent_vol )\n",
    "print('Annual Variance :'+ percent_var )"
   ]
  },
  {
   "cell_type": "code",
   "execution_count": 10,
   "metadata": {},
   "outputs": [
    {
     "name": "stdout",
     "output_type": "stream",
     "text": [
      "OrderedDict([('제조업', 0.0), ('음식료품', 0.0), ('섬유의복', 0.0), ('종이목재', 0.0), ('화학', 0.26938), ('의약품', 0.55999), ('비금속광물', 0.0), ('철강금속', 0.0), ('기계', 0.0), ('전기전자', 0.16066), ('의료정밀', 0.00997), ('운수장비', 0.0), ('유통업', 0.0), ('전기가스업', 0.0), ('건설업', 0.0), ('운수창고업', 0.0), ('통신업', 0.0), ('금융업', 0.0), ('은행', 0.0), ('증권', 0.0), ('보험', 0.0), ('서비스업', 0.0)])\n",
      "Expected annual return: 13.5%\n",
      "Annual volatility: 21.6%\n",
      "Sharpe Ratio: 0.53\n"
     ]
    },
    {
     "data": {
      "text/plain": [
       "(0.13492968879251077, 0.2161293716058797, 0.5317633967959224)"
      ]
     },
     "execution_count": 10,
     "metadata": {},
     "output_type": "execute_result"
    }
   ],
   "source": [
    "# Portfolio optimization\n",
    "\n",
    "# Calculate the expexted returns and annualised sample covariance matrix of the asset returns\n",
    "mu=expected_returns.mean_historical_return(X_train, frequency=12) # 앞과 동일하게 data가 month기준\n",
    "S=risk_models.sample_cov(X_train, frequency= 12) # 앞과 동일하게 data가 month기준\n",
    "\n",
    "# Optimize the max sharpe ratio\n",
    "ef = EfficientFrontier(mu, S)\n",
    "weights = ef.max_sharpe() #Maximize the Sharpe ratio, and get the raw weights\n",
    "cleaned_weights = ef.clean_weights() \n",
    "print(cleaned_weights) #Note the weights may have some rounding error, meaning they may not add up exactly to 1 but should be close\n",
    "ef.portfolio_performance(verbose=True)"
   ]
  },
  {
   "cell_type": "code",
   "execution_count": 178,
   "metadata": {},
   "outputs": [
    {
     "name": "stdout",
     "output_type": "stream",
     "text": [
      "Discrete allocation: {'화학': 55258229, '의약품': 48164181, '전기전자': 11120633, '의료정밀': 4672324}\n",
      "Funds remaining: $902.32\n"
     ]
    }
   ],
   "source": [
    "from pypfopt.discrete_allocation import DiscreteAllocation, get_latest_prices\n",
    "\n",
    "latest_prices = get_latest_prices(X_train)\n",
    "weights = cleaned_weights \n",
    "\n",
    "da = DiscreteAllocation(weights, latest_prices, total_portfolio_value=1000000000000)\n",
    "allocation, leftover = da.lp_portfolio()\n",
    "\n",
    "print(\"Discrete allocation:\", allocation) # 해당주를 얼마나 구입하는가\n",
    "print(\"Funds remaining: ${:.2f}\".format(leftover)) # 예상 수익"
   ]
  },
  {
   "cell_type": "code",
   "execution_count": 12,
   "metadata": {},
   "outputs": [],
   "source": [
    "predict.columns = np.array(X_train.columns)"
   ]
  },
  {
   "cell_type": "code",
   "execution_count": 13,
   "metadata": {},
   "outputs": [],
   "source": [
    "total = pd.concat([ X_train, predict])"
   ]
  },
  {
   "cell_type": "code",
   "execution_count": 14,
   "metadata": {},
   "outputs": [
    {
     "name": "stdout",
     "output_type": "stream",
     "text": [
      "180\n",
      "194\n"
     ]
    }
   ],
   "source": [
    "print(len(X_train))\n",
    "print(len(total))"
   ]
  },
  {
   "cell_type": "code",
   "execution_count": 15,
   "metadata": {},
   "outputs": [],
   "source": [
    "## 동일 가중치 포트폴리오를 계속 \n",
    "\n",
    "weights = np.ones(22) \n",
    "weights = weights/22 \n",
    "returns=X_train.pct_change() \n",
    "cov_matrix_annual=returns.cov()*12\n",
    "port_variance=np.dot(weights.T, np.dot(cov_matrix_annual, weights)) \n",
    "port_volatility=np.sqrt(port_variance) \n",
    "portfolioSimpleAnnualReturn=np.sum(returns.mean()*weights)*12 "
   ]
  },
  {
   "cell_type": "code",
   "execution_count": 16,
   "metadata": {},
   "outputs": [
    {
     "data": {
      "text/html": [
       "<div>\n",
       "<style scoped>\n",
       "    .dataframe tbody tr th:only-of-type {\n",
       "        vertical-align: middle;\n",
       "    }\n",
       "\n",
       "    .dataframe tbody tr th {\n",
       "        vertical-align: top;\n",
       "    }\n",
       "\n",
       "    .dataframe thead th {\n",
       "        text-align: right;\n",
       "    }\n",
       "</style>\n",
       "<table border=\"1\" class=\"dataframe\">\n",
       "  <thead>\n",
       "    <tr style=\"text-align: right;\">\n",
       "      <th></th>\n",
       "      <th>제조업</th>\n",
       "      <th>음식료품</th>\n",
       "      <th>섬유의복</th>\n",
       "      <th>종이목재</th>\n",
       "      <th>화학</th>\n",
       "      <th>의약품</th>\n",
       "      <th>비금속광물</th>\n",
       "      <th>철강금속</th>\n",
       "      <th>기계</th>\n",
       "      <th>전기전자</th>\n",
       "      <th>...</th>\n",
       "      <th>유통업</th>\n",
       "      <th>전기가스업</th>\n",
       "      <th>건설업</th>\n",
       "      <th>운수창고업</th>\n",
       "      <th>통신업</th>\n",
       "      <th>금융업</th>\n",
       "      <th>은행</th>\n",
       "      <th>증권</th>\n",
       "      <th>보험</th>\n",
       "      <th>서비스업</th>\n",
       "    </tr>\n",
       "  </thead>\n",
       "  <tbody>\n",
       "    <tr>\n",
       "      <th>2019-01-31</th>\n",
       "      <td>4579.62</td>\n",
       "      <td>3907.933949</td>\n",
       "      <td>247.084996</td>\n",
       "      <td>357.66</td>\n",
       "      <td>4782.24948</td>\n",
       "      <td>11626.69</td>\n",
       "      <td>1661.05</td>\n",
       "      <td>4043.12</td>\n",
       "      <td>738.343602</td>\n",
       "      <td>14107.500651</td>\n",
       "      <td>...</td>\n",
       "      <td>393.5</td>\n",
       "      <td>1050.6</td>\n",
       "      <td>112.6</td>\n",
       "      <td>1341.29</td>\n",
       "      <td>397.99</td>\n",
       "      <td>434.405401</td>\n",
       "      <td>298.840542</td>\n",
       "      <td>1689.914681</td>\n",
       "      <td>16366.798971</td>\n",
       "      <td>1080.0</td>\n",
       "    </tr>\n",
       "  </tbody>\n",
       "</table>\n",
       "<p>1 rows × 22 columns</p>\n",
       "</div>"
      ],
      "text/plain": [
       "                제조업         음식료품        섬유의복    종이목재          화학       의약품  \\\n",
       "2019-01-31  4579.62  3907.933949  247.084996  357.66  4782.24948  11626.69   \n",
       "\n",
       "              비금속광물     철강금속          기계          전기전자  ...    유통업   전기가스업  \\\n",
       "2019-01-31  1661.05  4043.12  738.343602  14107.500651  ...  393.5  1050.6   \n",
       "\n",
       "              건설업    운수창고업     통신업         금융업          은행           증권  \\\n",
       "2019-01-31  112.6  1341.29  397.99  434.405401  298.840542  1689.914681   \n",
       "\n",
       "                      보험    서비스업  \n",
       "2019-01-31  16366.798971  1080.0  \n",
       "\n",
       "[1 rows x 22 columns]"
      ]
     },
     "execution_count": 16,
     "metadata": {},
     "output_type": "execute_result"
    }
   ],
   "source": [
    "pd.DataFrame(predict.iloc[0,:]).T"
   ]
  },
  {
   "cell_type": "code",
   "execution_count": 17,
   "metadata": {},
   "outputs": [],
   "source": [
    "X_tarin_input = pd.concat([X_train, pd.DataFrame(predict.iloc[0,:]).T])"
   ]
  },
  {
   "cell_type": "code",
   "execution_count": 184,
   "metadata": {},
   "outputs": [],
   "source": [
    "a = 100000000\n",
    "solution = []\n",
    "money = []\n",
    "sol = pd.DataFrame(index=range(0,1), columns = df.columns)\n",
    "for i in range(0,13):\n",
    "    latest_prices = get_latest_prices(pd.concat([X_train, pd.DataFrame(predict.iloc[i,:]).T]))\n",
    "    weights = cleaned_weights \n",
    "\n",
    "    da = DiscreteAllocation(weights, latest_prices, total_portfolio_value=a)\n",
    "    solution.append(da.lp_portfolio())\n",
    "    money.append(a)\n",
    "    sol = pd.merge(sol, pd.DataFrame.from_dict(data = solution[i][0], orient='index', dtype='int').T, how = 'outer').fillna(0) \n",
    "    a += pd.DataFrame(solution).iloc[i,1]*1200\n"
   ]
  },
  {
   "cell_type": "code",
   "execution_count": 185,
   "metadata": {},
   "outputs": [],
   "source": [
    "b = 100000000\n",
    "solution_2 = []\n",
    "money_2 = []\n",
    "sol_2 = pd.DataFrame(index=range(0,1), columns = df.columns)\n",
    "for i in range(0,13):\n",
    "    latest_prices_2 = get_latest_prices(pd.concat([X_train, pd.DataFrame(X_valid.iloc[i,:]).T]))\n",
    "    weights_2 = cleaned_weights \n",
    "\n",
    "    da = DiscreteAllocation(weights_2, latest_prices_2, total_portfolio_value=b)\n",
    "    solution_2.append(da.lp_portfolio())\n",
    "    money_2.append(b)\n",
    "    sol_2 = pd.merge(sol_2, pd.DataFrame.from_dict(data = solution_2[i][0], orient='index', dtype='int').T, how = 'outer').fillna(0) \n",
    "    b += pd.DataFrame(solution_2).iloc[i,1]*1200"
   ]
  },
  {
   "cell_type": "code",
   "execution_count": 186,
   "metadata": {},
   "outputs": [
    {
     "data": {
      "text/plain": [
       "[100000000,\n",
       " 100443134.52113867,\n",
       " 100458690.9362793,\n",
       " 101290961.3855362,\n",
       " 101327559.58693624,\n",
       " 106039298.40224385,\n",
       " 106112996.2855041,\n",
       " 106332103.81138325,\n",
       " 106879161.75991297,\n",
       " 107634496.19077444,\n",
       " 111929013.46300244,\n",
       " 114177868.44329834,\n",
       " 114552769.36017275]"
      ]
     },
     "execution_count": 186,
     "metadata": {},
     "output_type": "execute_result"
    }
   ],
   "source": [
    "money"
   ]
  },
  {
   "cell_type": "code",
   "execution_count": 187,
   "metadata": {},
   "outputs": [
    {
     "data": {
      "text/plain": [
       "Text(0.5, 1.0, '포트폴리오 업데이트 횟수별 예상 자산 변화')"
      ]
     },
     "execution_count": 187,
     "metadata": {},
     "output_type": "execute_result"
    },
    {
     "data": {
      "image/png": "[encoded data removed]",
      "text/plain": [
       "<Figure size 640x480 with 1 Axes>"
      ]
     },
     "metadata": {},
     "output_type": "display_data"
    }
   ],
   "source": [
    "plt.plot((pd.DataFrame(money)-100000000), label = '금액_arima')\n",
    "plt.plot((pd.DataFrame(money_2)-100000000), label = '금액_real')\n",
    "plt.xlabel('포트폴리오 업데이트 횟수')\n",
    "plt.ylabel('자산')\n",
    "plt.legend()\n",
    "plt.title('포트폴리오 업데이트 횟수별 예상 자산 변화')"
   ]
  },
  {
   "cell_type": "code",
   "execution_count": 191,
   "metadata": {},
   "outputs": [
    {
     "data": {
      "text/plain": [
       "<matplotlib.legend.Legend at 0x1b475173c08>"
      ]
     },
     "execution_count": 191,
     "metadata": {},
     "output_type": "execute_result"
    },
    {
     "data": {
      "image/png": "[encoded data removed]",
      "text/plain": [
       "<Figure size 640x480 with 1 Axes>"
      ]
     },
     "metadata": {},
     "output_type": "display_data"
    }
   ],
   "source": [
    "plt.plot(X_valid.iloc[:,1], label = '실제')\n",
    "plt.plot(predict.iloc[:,1], label = '예측')\n",
    "plt.legend()"
   ]
  },
  {
   "cell_type": "code",
   "execution_count": 181,
   "metadata": {},
   "outputs": [
    {
     "data": {
      "text/plain": [
       "time\n",
       "2019-01-31    1.436930e+09\n",
       "2019-02-28    1.421716e+09\n",
       "2019-03-31    1.325440e+09\n",
       "2019-04-30    1.394638e+09\n",
       "2019-05-31    1.256270e+09\n",
       "2019-06-30    1.307382e+09\n",
       "2019-07-31    1.185846e+09\n",
       "2019-08-31    1.141246e+09\n",
       "2019-09-30    1.197339e+09\n",
       "2019-10-31    1.338471e+09\n",
       "2019-11-30    1.291078e+09\n",
       "2019-12-31    1.381416e+09\n",
       "2020-01-31    1.349099e+09\n",
       "2020-02-29    1.296637e+09\n",
       "dtype: float64"
      ]
     },
     "execution_count": 181,
     "metadata": {},
     "output_type": "execute_result"
    }
   ],
   "source": [
    "(sol_2@X_valid.T).sum()"
   ]
  },
  {
   "cell_type": "code",
   "execution_count": 192,
   "metadata": {},
   "outputs": [
    {
     "data": {
      "text/plain": [
       "[<matplotlib.lines.Line2D at 0x1b475b2dfc8>]"
      ]
     },
     "execution_count": 192,
     "metadata": {},
     "output_type": "execute_result"
    },
    {
     "data": {
      "image/png": "[encoded data removed]",
      "text/plain": [
       "<Figure size 640x480 with 1 Axes>"
      ]
     },
     "metadata": {},
     "output_type": "display_data"
    }
   ],
   "source": [
    "plt.plot((sol_2@X_valid.T).sum()-100000000, label = '실제')\n",
    "plt.plot((sol@predict.T).sum()-100000000, label = 'arima')"
   ]
  },
  {
   "cell_type": "code",
   "execution_count": 161,
   "metadata": {},
   "outputs": [
    {
     "data": {
      "text/plain": [
       "time\n",
       "2019-01-31    1.360158e+09\n",
       "2019-02-28    1.444563e+09\n",
       "2019-03-31    1.429842e+09\n",
       "2019-04-30    1.323428e+09\n",
       "2019-05-31    1.393308e+09\n",
       "2019-06-30    1.246062e+09\n",
       "2019-07-31    1.307055e+09\n",
       "2019-08-31    1.184026e+09\n",
       "2019-09-30    1.147730e+09\n",
       "2019-10-31    1.193546e+09\n",
       "2019-11-30    1.339008e+09\n",
       "2019-12-31    1.287774e+09\n",
       "2020-01-31    1.380238e+09\n",
       "2020-02-29    1.348448e+09\n",
       "dtype: float64"
      ]
     },
     "execution_count": 161,
     "metadata": {},
     "output_type": "execute_result"
    }
   ],
   "source": [
    "(sol.iloc[1:,:]@predict.T).sum()"
   ]
  },
  {
   "cell_type": "code",
   "execution_count": 163,
   "metadata": {},
   "outputs": [
    {
     "data": {
      "image/png": "[encoded data removed]",
      "text/plain": [
       "<Figure size 640x480 with 1 Axes>"
      ]
     },
     "metadata": {},
     "output_type": "display_data"
    }
   ],
   "source": [
    "plt.plot((sol@predict.T).sum(), label ='ARIMA 예측')\n",
    "plt.plot((sol_2@X_valid.T).sum(), label = '실제')\n",
    "plt.legend()\n",
    "plt.show()"
   ]
  },
  {
   "cell_type": "code",
   "execution_count": null,
   "metadata": {},
   "outputs": [],
   "source": []
  }
 ],
 "metadata": {
  "kernelspec": {
   "display_name": "version_test",
   "language": "python",
   "name": "python3"
  },
  "language_info": {
   "codemirror_mode": {
    "name": "ipython",
    "version": 3
   },
   "file_extension": ".py",
   "mimetype": "text/x-python",
   "name": "python",
   "nbconvert_exporter": "python",
   "pygments_lexer": "ipython3",
   "version": "3.7.15"
  },
  "orig_nbformat": 4,
  "vscode": {
   "interpreter": {
    "hash": "cfe135afd72bafd3529fdb2d5bee25c98d4b633c63039531eadf892df31ba1d4"
   }
  }
 },
 "nbformat": 4,
 "nbformat_minor": 2
}

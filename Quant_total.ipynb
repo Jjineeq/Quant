{
 "cells": [
  {
   "cell_type": "code",
   "execution_count": 4,
   "metadata": {},
   "outputs": [],
   "source": [
    "import pandas as pd\n",
    "import numpy as np\n",
    "from datetime import datetime\n",
    "from pandas import to_datetime\n",
    "import matplotlib.pyplot as plt\n",
    "import time\n",
    "import seaborn as sns\n",
    "import pmdarima as pm\n",
    "from pmdarima.model_selection import train_test_split\n",
    "\n",
    "\n",
    "from statsmodels.tsa.arima_model import ARIMA\n",
    "from statsmodels.tsa.api import ExponentialSmoothing, SimpleExpSmoothing, Holt\n",
    "from sklearn.metrics import mean_squared_error\n",
    "from sklearn.linear_model import LinearRegression\n",
    "from sklearn import linear_model\n",
    "from sklearn.metrics import r2_score\n",
    "\n",
    "import warnings\n",
    "warnings.filterwarnings('ignore')\n",
    "from tqdm import tqdm\n",
    "plt.rcParams['font.family'] ='Malgun Gothic'\n",
    "plt.rcParams['axes.unicode_minus'] =False"
   ]
  },
  {
   "cell_type": "code",
   "execution_count": 5,
   "metadata": {},
   "outputs": [],
   "source": [
    "# 포트폴리오 관련 library import\n",
    "\n",
    "import cvxopt as opt # python version 3.6-3.10 가능\n",
    "from cvxopt import solvers\n",
    "from pypfopt.efficient_frontier import EfficientFrontier # 정확하게는 모르겠는데 3.7은 사용가능\n",
    "from pypfopt import risk_models\n",
    "from pypfopt import expected_returns"
   ]
  },
  {
   "cell_type": "code",
   "execution_count": 6,
   "metadata": {},
   "outputs": [],
   "source": [
    "df = pd.read_csv(\"C:/Users/User/github/Quant/data/kospi_category.csv\", encoding='cp949')\n",
    "start_date = '2004-01'\n",
    "end_date = '2020-03'\n",
    " \n",
    "df['time'] = pd.date_range(start_date,end_date,freq='m')\n",
    "df.drop('date',axis=1, inplace=True)\n",
    "df.set_index('time', inplace=True) "
   ]
  },
  {
   "cell_type": "code",
   "execution_count": 7,
   "metadata": {},
   "outputs": [
    {
     "name": "stdout",
     "output_type": "stream",
     "text": [
      "X_train Shape (180, 22)\n",
      "X_Valid Shape (14, 22)\n"
     ]
    }
   ],
   "source": [
    "# train 데이터와 validation 데이터 나누기.\n",
    "X_train = df[df.index < '2019-01-01']\n",
    "X_valid = df[df.index >= '2019-01-01']\n",
    "\n",
    "# 각 데이터의 사이즈 확인하기\n",
    "print('X_train Shape', X_train.shape)\n",
    "print('X_Valid Shape', X_valid.shape)"
   ]
  },
  {
   "cell_type": "code",
   "execution_count": 94,
   "metadata": {},
   "outputs": [
    {
     "name": "stderr",
     "output_type": "stream",
     "text": [
      "  5%|▍         | 1/22 [00:05<01:57,  5.60s/it]"
     ]
    },
    {
     "name": "stdout",
     "output_type": "stream",
     "text": [
      "제조업 The MSE of auto-arima is: 69869.70982860656\n"
     ]
    },
    {
     "name": "stderr",
     "output_type": "stream",
     "text": [
      "  9%|▉         | 2/22 [00:14<02:34,  7.75s/it]"
     ]
    },
    {
     "name": "stdout",
     "output_type": "stream",
     "text": [
      "음식료품 The MSE of auto-arima is: 27358.963728057242\n"
     ]
    },
    {
     "name": "stderr",
     "output_type": "stream",
     "text": [
      " 14%|█▎        | 3/22 [00:42<05:20, 16.89s/it]"
     ]
    },
    {
     "name": "stdout",
     "output_type": "stream",
     "text": [
      "섬유의복 The MSE of auto-arima is: 340.46260770421975\n"
     ]
    },
    {
     "name": "stderr",
     "output_type": "stream",
     "text": [
      " 18%|█▊        | 4/22 [01:03<05:34, 18.56s/it]"
     ]
    },
    {
     "name": "stdout",
     "output_type": "stream",
     "text": [
      "종이목재 The MSE of auto-arima is: 382.8069225133988\n"
     ]
    },
    {
     "name": "stderr",
     "output_type": "stream",
     "text": [
      " 23%|██▎       | 5/22 [01:35<06:37, 23.40s/it]"
     ]
    },
    {
     "name": "stdout",
     "output_type": "stream",
     "text": [
      "화학 The MSE of auto-arima is: 52369.13938800721\n"
     ]
    },
    {
     "name": "stderr",
     "output_type": "stream",
     "text": [
      " 27%|██▋       | 6/22 [01:40<04:34, 17.15s/it]"
     ]
    },
    {
     "name": "stdout",
     "output_type": "stream",
     "text": [
      "의약품 The MSE of auto-arima is: 747592.3807111912\n"
     ]
    },
    {
     "name": "stderr",
     "output_type": "stream",
     "text": [
      " 32%|███▏      | 7/22 [01:46<03:19, 13.29s/it]"
     ]
    },
    {
     "name": "stdout",
     "output_type": "stream",
     "text": [
      "비금속광물 The MSE of auto-arima is: 6243.490142857144\n"
     ]
    },
    {
     "name": "stderr",
     "output_type": "stream",
     "text": [
      " 36%|███▋      | 8/22 [01:51<02:32, 10.87s/it]"
     ]
    },
    {
     "name": "stdout",
     "output_type": "stream",
     "text": [
      "철강금속 The MSE of auto-arima is: 50520.8865357144\n"
     ]
    },
    {
     "name": "stderr",
     "output_type": "stream",
     "text": [
      " 41%|████      | 9/22 [02:05<02:32, 11.77s/it]"
     ]
    },
    {
     "name": "stdout",
     "output_type": "stream",
     "text": [
      "기계 The MSE of auto-arima is: 2129.575508596078\n"
     ]
    },
    {
     "name": "stderr",
     "output_type": "stream",
     "text": [
      " 45%|████▌     | 10/22 [02:21<02:36, 13.06s/it]"
     ]
    },
    {
     "name": "stdout",
     "output_type": "stream",
     "text": [
      "전기전자 The MSE of auto-arima is: 1477476.87927399\n"
     ]
    },
    {
     "name": "stderr",
     "output_type": "stream",
     "text": [
      " 50%|█████     | 11/22 [02:33<02:20, 12.78s/it]"
     ]
    },
    {
     "name": "stdout",
     "output_type": "stream",
     "text": [
      "의료정밀 The MSE of auto-arima is: 62943.14033320832\n"
     ]
    },
    {
     "name": "stderr",
     "output_type": "stream",
     "text": [
      " 55%|█████▍    | 12/22 [02:39<01:45, 10.59s/it]"
     ]
    },
    {
     "name": "stdout",
     "output_type": "stream",
     "text": [
      "운수장비 The MSE of auto-arima is: 9970.688257142854\n"
     ]
    },
    {
     "name": "stderr",
     "output_type": "stream",
     "text": [
      " 59%|█████▉    | 13/22 [02:45<01:22,  9.18s/it]"
     ]
    },
    {
     "name": "stdout",
     "output_type": "stream",
     "text": [
      "유통업 The MSE of auto-arima is: 377.6617142857147\n"
     ]
    },
    {
     "name": "stderr",
     "output_type": "stream",
     "text": [
      " 64%|██████▎   | 14/22 [03:05<01:39, 12.41s/it]"
     ]
    },
    {
     "name": "stdout",
     "output_type": "stream",
     "text": [
      "전기가스업 The MSE of auto-arima is: 4817.700157436165\n"
     ]
    },
    {
     "name": "stderr",
     "output_type": "stream",
     "text": [
      " 68%|██████▊   | 15/22 [03:08<01:08,  9.72s/it]"
     ]
    },
    {
     "name": "stdout",
     "output_type": "stream",
     "text": [
      "건설업 The MSE of auto-arima is: 46.83447857142858\n"
     ]
    },
    {
     "name": "stderr",
     "output_type": "stream",
     "text": [
      " 73%|███████▎  | 16/22 [03:13<00:49,  8.22s/it]"
     ]
    },
    {
     "name": "stdout",
     "output_type": "stream",
     "text": [
      "운수창고업 The MSE of auto-arima is: 5325.152799999994\n"
     ]
    },
    {
     "name": "stderr",
     "output_type": "stream",
     "text": [
      " 77%|███████▋  | 17/22 [03:20<00:39,  7.85s/it]"
     ]
    },
    {
     "name": "stdout",
     "output_type": "stream",
     "text": [
      "통신업 The MSE of auto-arima is: 147.387692857143\n"
     ]
    },
    {
     "name": "stderr",
     "output_type": "stream",
     "text": [
      " 82%|████████▏ | 18/22 [03:30<00:33,  8.46s/it]"
     ]
    },
    {
     "name": "stdout",
     "output_type": "stream",
     "text": [
      "금융업 The MSE of auto-arima is: 446.9439358912327\n"
     ]
    },
    {
     "name": "stderr",
     "output_type": "stream",
     "text": [
      " 86%|████████▋ | 19/22 [03:37<00:24,  8.24s/it]"
     ]
    },
    {
     "name": "stdout",
     "output_type": "stream",
     "text": [
      "은행 The MSE of auto-arima is: 216.82689653920417\n"
     ]
    },
    {
     "name": "stderr",
     "output_type": "stream",
     "text": [
      " 91%|█████████ | 20/22 [03:47<00:17,  8.59s/it]"
     ]
    },
    {
     "name": "stdout",
     "output_type": "stream",
     "text": [
      "증권 The MSE of auto-arima is: 9795.285551624653\n"
     ]
    },
    {
     "name": "stderr",
     "output_type": "stream",
     "text": [
      " 95%|█████████▌| 21/22 [04:02<00:10, 10.60s/it]"
     ]
    },
    {
     "name": "stdout",
     "output_type": "stream",
     "text": [
      "보험 The MSE of auto-arima is: 837588.5221267983\n"
     ]
    },
    {
     "name": "stderr",
     "output_type": "stream",
     "text": [
      "100%|██████████| 22/22 [04:08<00:00, 11.29s/it]"
     ]
    },
    {
     "name": "stdout",
     "output_type": "stream",
     "text": [
      "서비스업 The MSE of auto-arima is: 1226.7039571428556\n"
     ]
    },
    {
     "name": "stderr",
     "output_type": "stream",
     "text": [
      "\n"
     ]
    },
    {
     "data": {
      "image/png": "[encoded data removed]",
      "text/plain": [
       "<Figure size 640x480 with 1 Axes>"
      ]
     },
     "metadata": {},
     "output_type": "display_data"
    }
   ],
   "source": [
    "# Moving Window 적용\n",
    "# Auto-ARIMA 돌리기 - 계측값이 일별이면 m=1, 월별이면 m=12, 주별이면 m=52, \n",
    "# 계절성이 있는 데이터면 seasonal=True 로 바꿔야함. 알아서 d 값을 찾아줌\n",
    "arima_result = []\n",
    "arima_result_2 = []\n",
    "arima_result_3 = []\n",
    "arima_val = []\n",
    "for i in tqdm(range(len(df.columns))):\n",
    "    predictions = list()\n",
    "    history = [x for x in X_train.iloc[:,i]]\n",
    "    for t in range(len(X_valid)):\n",
    "        model = pm.auto_arima(y = history)\n",
    "        output = model.predict()\n",
    "        yhat = output[0]\n",
    "        predictions.append(yhat)\n",
    "        obs = X_valid.iloc[:,i][t]\n",
    "        history.append(obs)\n",
    "    \n",
    "    predictions = pd.Series(predictions, index = X_valid.index)\n",
    "\n",
    "    #hart = sns.lineplot(data = pd.DataFrame(X_train.iloc[:,i]))\n",
    "    #chart.set_title(df.columns[i]+' Auto Arima')\n",
    "\n",
    "    # plt.plot(X_train.iloc[:,i], color='blue')\n",
    "    # plt.plot(predictions, color = 'red')\n",
    "    # plt.plot(X_valid.iloc[:,i], color = 'blue')\n",
    "    # plt.title(df.columns[i])\n",
    "    # plt.legend()\n",
    "    # plt.savefig(\"C:/Users/User/github/Quant/data/\"+df.columns[i]+\" moving_window.png\")\n",
    "    print(df.columns[i]+' The MSE of auto-arima is:', mean_squared_error(X_valid.iloc[:,i].values, predictions))\n",
    "    arima_result.append( mean_squared_error(X_valid.iloc[:,i].values, predictions))\n",
    "    arima_result_2.append(model.summary())\n",
    "    arima_result_3.append(r2_score(X_valid.iloc[:,i], predictions))\n",
    "    arima_val.append(predictions)\n",
    "    # plt.clf()\n",
    "    "
   ]
  },
  {
   "cell_type": "code",
   "execution_count": 95,
   "metadata": {},
   "outputs": [],
   "source": [
    "predict = pd.DataFrame(arima_val).T"
   ]
  },
  {
   "attachments": {},
   "cell_type": "markdown",
   "metadata": {},
   "source": [
    "---\n",
    "#### 미래 예측 완료\n",
    "#### train 구간만 사용한 포트폴리오와 예측 구간까지 사용한 포트폴리오의 차이를 확인할 것임\n",
    "#### train 구간이 움직일때 포트폴리오를 다시 최적화 할것임.\n",
    "#### 즉 한달 주기로 포트폴리오를 다시 구성한다고 생각하면 될것.\n",
    "#### 수수료는 없다고 가정\n",
    "#### 처음 주식을 구매하고 주식을 전부 판매하고 다시 주식을 구매하는 것으로 돈을 계속 계산할 것임"
   ]
  },
  {
   "cell_type": "code",
   "execution_count": 98,
   "metadata": {},
   "outputs": [],
   "source": [
    "weights = np.ones(22) # 초기에 가중치를 1로 설정\n",
    "weights = weights/22 # 이후 동일하게 1/22으로 나눠서 설정 (가중치 합은 항상 1)\n",
    "\n",
    "returns=X_train.pct_change() # 단순 수익률 계산 => (다음날 값 +- 기준일 값)/기준일 값 으로 수익률 나옵니다.\n",
    "\n",
    "cov_matrix_annual=returns.cov()*12 # 데이터 기준이 DAY가 아니라 MONTH이므로 12를 곱해 연간 수익률로 계산\n",
    "\n",
    "port_variance=np.dot(weights.T, np.dot(cov_matrix_annual, weights)) # 포트폴리오 분산의 기대값 = WT * (공분산{= 시그마}) * W를 코드로 옆처럼 나타냄\n",
    "\n",
    "port_volatility=np.sqrt(port_variance) # 포트폴리오 변동성의 기대값 = SQRT(WT * 공분산(=시그마) * W) // 그냥 표준편차 = 변동성\n",
    "\n",
    "portfolioSimpleAnnualReturn=np.sum(returns.mean()*weights)*12 # 연간 수익률 계산 DAY가 아니라 MONTH기준이므로 12곱하면 됨"
   ]
  },
  {
   "cell_type": "code",
   "execution_count": 99,
   "metadata": {},
   "outputs": [],
   "source": [
    "percent_var=str(round(port_variance,2)*100)+'%'\n",
    "percent_vol=str(round(port_volatility,2)*100)+'%'\n",
    "percent_ret=str(round(portfolioSimpleAnnualReturn,2)*100)+'%'"
   ]
  },
  {
   "cell_type": "code",
   "execution_count": 100,
   "metadata": {},
   "outputs": [
    {
     "name": "stdout",
     "output_type": "stream",
     "text": [
      "Expected Annual Return :9.0%\n",
      "Annual Volatility/risk :19.0%\n",
      "Annual Variance :3.0%\n"
     ]
    }
   ],
   "source": [
    "print('Expected Annual Return :'+ percent_ret )\n",
    "print('Annual Volatility/risk :'+ percent_vol )\n",
    "print('Annual Variance :'+ percent_var )"
   ]
  },
  {
   "cell_type": "code",
   "execution_count": 101,
   "metadata": {},
   "outputs": [
    {
     "name": "stdout",
     "output_type": "stream",
     "text": [
      "OrderedDict([('제조업', 0.0), ('음식료품', 0.0), ('섬유의복', 0.0), ('종이목재', 0.0), ('화학', 0.26938), ('의약품', 0.55999), ('비금속광물', 0.0), ('철강금속', 0.0), ('기계', 0.0), ('전기전자', 0.16066), ('의료정밀', 0.00997), ('운수장비', 0.0), ('유통업', 0.0), ('전기가스업', 0.0), ('건설업', 0.0), ('운수창고업', 0.0), ('통신업', 0.0), ('금융업', 0.0), ('은행', 0.0), ('증권', 0.0), ('보험', 0.0), ('서비스업', 0.0)])\n",
      "Expected annual return: 13.5%\n",
      "Annual volatility: 21.6%\n",
      "Sharpe Ratio: 0.53\n"
     ]
    },
    {
     "data": {
      "text/plain": [
       "(0.13492968879251077, 0.2161293716058797, 0.5317633967959224)"
      ]
     },
     "execution_count": 101,
     "metadata": {},
     "output_type": "execute_result"
    }
   ],
   "source": [
    "# Portfolio optimization\n",
    "\n",
    "# Calculate the expexted returns and annualised sample covariance matrix of the asset returns\n",
    "mu=expected_returns.mean_historical_return(X_train, frequency=12) # 앞과 동일하게 data가 month기준\n",
    "S=risk_models.sample_cov(X_train, frequency= 12) # 앞과 동일하게 data가 month기준\n",
    "\n",
    "# Optimize the max sharpe ratio\n",
    "ef = EfficientFrontier(mu, S)\n",
    "weights = ef.max_sharpe() #Maximize the Sharpe ratio, and get the raw weights\n",
    "cleaned_weights = ef.clean_weights() \n",
    "print(cleaned_weights) #Note the weights may have some rounding error, meaning they may not add up exactly to 1 but should be close\n",
    "ef.portfolio_performance(verbose=True)"
   ]
  },
  {
   "cell_type": "code",
   "execution_count": 102,
   "metadata": {},
   "outputs": [
    {
     "name": "stdout",
     "output_type": "stream",
     "text": [
      "Discrete allocation: {'화학': 55258229, '의약품': 48164181, '전기전자': 11120633, '의료정밀': 4672324}\n",
      "Funds remaining: $902.32\n"
     ]
    }
   ],
   "source": [
    "from pypfopt.discrete_allocation import DiscreteAllocation, get_latest_prices\n",
    "\n",
    "latest_prices = get_latest_prices(X_train)\n",
    "weights = cleaned_weights \n",
    "\n",
    "da = DiscreteAllocation(weights, latest_prices, total_portfolio_value=1000000000000)\n",
    "allocation, leftover = da.lp_portfolio()\n",
    "\n",
    "print(\"Discrete allocation:\", allocation) # 해당주를 얼마나 구입하는가\n",
    "print(\"Funds remaining: ${:.2f}\".format(leftover)) # 예상 수익률"
   ]
  },
  {
   "cell_type": "code",
   "execution_count": 159,
   "metadata": {},
   "outputs": [],
   "source": [
    "predict.columns = np.array(X_train.columns)"
   ]
  },
  {
   "cell_type": "code",
   "execution_count": 164,
   "metadata": {},
   "outputs": [],
   "source": [
    "total = pd.concat([ X_train, predict])"
   ]
  },
  {
   "cell_type": "code",
   "execution_count": 166,
   "metadata": {},
   "outputs": [
    {
     "name": "stdout",
     "output_type": "stream",
     "text": [
      "180\n",
      "194\n"
     ]
    }
   ],
   "source": [
    "print(len(X_train))\n",
    "print(len(total))"
   ]
  },
  {
   "cell_type": "code",
   "execution_count": null,
   "metadata": {},
   "outputs": [],
   "source": [
    "## 동일 가중치 포트폴리오를 계속 \n",
    "\n",
    "weights = np.ones(22) \n",
    "weights = weights/22 \n",
    "returns=X_train.pct_change() \n",
    "cov_matrix_annual=returns.cov()*12\n",
    "port_variance=np.dot(weights.T, np.dot(cov_matrix_annual, weights)) \n",
    "port_volatility=np.sqrt(port_variance) \n",
    "portfolioSimpleAnnualReturn=np.sum(returns.mean()*weights)*12 "
   ]
  },
  {
   "cell_type": "code",
   "execution_count": 203,
   "metadata": {},
   "outputs": [
    {
     "data": {
      "text/html": [
       "<div>\n",
       "<style scoped>\n",
       "    .dataframe tbody tr th:only-of-type {\n",
       "        vertical-align: middle;\n",
       "    }\n",
       "\n",
       "    .dataframe tbody tr th {\n",
       "        vertical-align: top;\n",
       "    }\n",
       "\n",
       "    .dataframe thead th {\n",
       "        text-align: right;\n",
       "    }\n",
       "</style>\n",
       "<table border=\"1\" class=\"dataframe\">\n",
       "  <thead>\n",
       "    <tr style=\"text-align: right;\">\n",
       "      <th></th>\n",
       "      <th>제조업</th>\n",
       "      <th>음식료품</th>\n",
       "      <th>섬유의복</th>\n",
       "      <th>종이목재</th>\n",
       "      <th>화학</th>\n",
       "      <th>의약품</th>\n",
       "      <th>비금속광물</th>\n",
       "      <th>철강금속</th>\n",
       "      <th>기계</th>\n",
       "      <th>전기전자</th>\n",
       "      <th>...</th>\n",
       "      <th>유통업</th>\n",
       "      <th>전기가스업</th>\n",
       "      <th>건설업</th>\n",
       "      <th>운수창고업</th>\n",
       "      <th>통신업</th>\n",
       "      <th>금융업</th>\n",
       "      <th>은행</th>\n",
       "      <th>증권</th>\n",
       "      <th>보험</th>\n",
       "      <th>서비스업</th>\n",
       "    </tr>\n",
       "  </thead>\n",
       "  <tbody>\n",
       "    <tr>\n",
       "      <th>2019-01-31</th>\n",
       "      <td>4579.62</td>\n",
       "      <td>3907.933949</td>\n",
       "      <td>247.084996</td>\n",
       "      <td>357.66</td>\n",
       "      <td>4782.24948</td>\n",
       "      <td>11626.69</td>\n",
       "      <td>1661.05</td>\n",
       "      <td>4043.12</td>\n",
       "      <td>738.343602</td>\n",
       "      <td>14107.500651</td>\n",
       "      <td>...</td>\n",
       "      <td>393.5</td>\n",
       "      <td>1050.6</td>\n",
       "      <td>112.6</td>\n",
       "      <td>1341.29</td>\n",
       "      <td>397.99</td>\n",
       "      <td>434.405401</td>\n",
       "      <td>298.840542</td>\n",
       "      <td>1689.914681</td>\n",
       "      <td>16366.798971</td>\n",
       "      <td>1080.0</td>\n",
       "    </tr>\n",
       "  </tbody>\n",
       "</table>\n",
       "<p>1 rows × 22 columns</p>\n",
       "</div>"
      ],
      "text/plain": [
       "                제조업         음식료품        섬유의복    종이목재          화학       의약품  \\\n",
       "2019-01-31  4579.62  3907.933949  247.084996  357.66  4782.24948  11626.69   \n",
       "\n",
       "              비금속광물     철강금속          기계          전기전자  ...    유통업   전기가스업  \\\n",
       "2019-01-31  1661.05  4043.12  738.343602  14107.500651  ...  393.5  1050.6   \n",
       "\n",
       "              건설업    운수창고업     통신업         금융업          은행           증권  \\\n",
       "2019-01-31  112.6  1341.29  397.99  434.405401  298.840542  1689.914681   \n",
       "\n",
       "                      보험    서비스업  \n",
       "2019-01-31  16366.798971  1080.0  \n",
       "\n",
       "[1 rows x 22 columns]"
      ]
     },
     "execution_count": 203,
     "metadata": {},
     "output_type": "execute_result"
    }
   ],
   "source": [
    "pd.DataFrame(predict.iloc[0,:]).T"
   ]
  },
  {
   "cell_type": "code",
   "execution_count": 204,
   "metadata": {},
   "outputs": [],
   "source": [
    "X_tarin_input = pd.concat([X_train, pd.DataFrame(predict.iloc[0,:]).T])"
   ]
  },
  {
   "cell_type": "code",
   "execution_count": 276,
   "metadata": {},
   "outputs": [],
   "source": [
    "a = 100000000\n",
    "solution = []\n",
    "money = []\n",
    "X_tarin_input = pd.concat([X_train, pd.DataFrame(predict.iloc[0,:]).T])\n",
    "for i in range(0,13):\n",
    "    latest_prices = get_latest_prices(pd.concat([X_train, pd.DataFrame(predict.iloc[i+1,:]).T]))\n",
    "    weights = cleaned_weights \n",
    "\n",
    "    da = DiscreteAllocation(weights, latest_prices, total_portfolio_value=a)\n",
    "    solution.append(da.lp_portfolio())\n",
    "    money.append(a) \n",
    "    a += pd.DataFrame(solution).iloc[i,1]\n"
   ]
  },
  {
   "cell_type": "code",
   "execution_count": 274,
   "metadata": {},
   "outputs": [
    {
     "data": {
      "text/html": [
       "<div>\n",
       "<style scoped>\n",
       "    .dataframe tbody tr th:only-of-type {\n",
       "        vertical-align: middle;\n",
       "    }\n",
       "\n",
       "    .dataframe tbody tr th {\n",
       "        vertical-align: top;\n",
       "    }\n",
       "\n",
       "    .dataframe thead th {\n",
       "        text-align: right;\n",
       "    }\n",
       "</style>\n",
       "<table border=\"1\" class=\"dataframe\">\n",
       "  <thead>\n",
       "    <tr style=\"text-align: right;\">\n",
       "      <th></th>\n",
       "      <th>0</th>\n",
       "    </tr>\n",
       "  </thead>\n",
       "  <tbody>\n",
       "    <tr>\n",
       "      <th>0</th>\n",
       "      <td>0.000000e+00</td>\n",
       "    </tr>\n",
       "    <tr>\n",
       "      <th>1</th>\n",
       "      <td>1.772852e+04</td>\n",
       "    </tr>\n",
       "    <tr>\n",
       "      <th>2</th>\n",
       "      <td>2.730724e+06</td>\n",
       "    </tr>\n",
       "    <tr>\n",
       "      <th>3</th>\n",
       "      <td>2.805431e+06</td>\n",
       "    </tr>\n",
       "    <tr>\n",
       "      <th>4</th>\n",
       "      <td>2.817150e+06</td>\n",
       "    </tr>\n",
       "    <tr>\n",
       "      <th>5</th>\n",
       "      <td>5.465526e+06</td>\n",
       "    </tr>\n",
       "    <tr>\n",
       "      <th>6</th>\n",
       "      <td>5.552124e+06</td>\n",
       "    </tr>\n",
       "    <tr>\n",
       "      <th>7</th>\n",
       "      <td>5.975237e+06</td>\n",
       "    </tr>\n",
       "    <tr>\n",
       "      <th>8</th>\n",
       "      <td>7.836805e+06</td>\n",
       "    </tr>\n",
       "    <tr>\n",
       "      <th>9</th>\n",
       "      <td>8.197600e+06</td>\n",
       "    </tr>\n",
       "    <tr>\n",
       "      <th>10</th>\n",
       "      <td>8.480674e+06</td>\n",
       "    </tr>\n",
       "    <tr>\n",
       "      <th>11</th>\n",
       "      <td>8.592804e+06</td>\n",
       "    </tr>\n",
       "    <tr>\n",
       "      <th>12</th>\n",
       "      <td>1.083987e+07</td>\n",
       "    </tr>\n",
       "  </tbody>\n",
       "</table>\n",
       "</div>"
      ],
      "text/plain": [
       "               0\n",
       "0   0.000000e+00\n",
       "1   1.772852e+04\n",
       "2   2.730724e+06\n",
       "3   2.805431e+06\n",
       "4   2.817150e+06\n",
       "5   5.465526e+06\n",
       "6   5.552124e+06\n",
       "7   5.975237e+06\n",
       "8   7.836805e+06\n",
       "9   8.197600e+06\n",
       "10  8.480674e+06\n",
       "11  8.592804e+06\n",
       "12  1.083987e+07"
      ]
     },
     "execution_count": 274,
     "metadata": {},
     "output_type": "execute_result"
    }
   ],
   "source": [
    "(pd.DataFrame(money)-100000000)*1200"
   ]
  },
  {
   "cell_type": "code",
   "execution_count": 271,
   "metadata": {},
   "outputs": [
    {
     "data": {
      "text/plain": [
       "Text(0.5, 1.0, '포트폴리오 업데이트 횟수별 자산 변화')"
      ]
     },
     "execution_count": 271,
     "metadata": {},
     "output_type": "execute_result"
    },
    {
     "data": {
      "image/png": "[encoded data removed]",
      "text/plain": [
       "<Figure size 640x480 with 1 Axes>"
      ]
     },
     "metadata": {},
     "output_type": "display_data"
    }
   ],
   "source": [
    "plt.plot((pd.DataFrame(money)-100000000)*1200, label = '금액')\n",
    "plt.xlabel('포트폴리오 업데이트 횟수')\n",
    "plt.ylabel('자산')\n",
    "plt.legend()\n",
    "plt.title('포트폴리오 업데이트 횟수별 자산 변화')"
   ]
  },
  {
   "cell_type": "code",
   "execution_count": 312,
   "metadata": {},
   "outputs": [
    {
     "data": {
      "text/plain": [
       "dict_values([4, 5215, 4733, 929, 383, 1])"
      ]
     },
     "execution_count": 312,
     "metadata": {},
     "output_type": "execute_result"
    }
   ],
   "source": [
    "solution[0][0].keys()\n"
   ]
  },
  {
   "cell_type": "code",
   "execution_count": 321,
   "metadata": {},
   "outputs": [
    {
     "data": {
      "text/plain": [
       "dict_values([4981, 4880, 960, 399])"
      ]
     },
     "execution_count": 321,
     "metadata": {},
     "output_type": "execute_result"
    }
   ],
   "source": [
    "solution[1][0].values()"
   ]
  },
  {
   "cell_type": "code",
   "execution_count": 320,
   "metadata": {},
   "outputs": [
    {
     "data": {
      "text/html": [
       "<div>\n",
       "<style scoped>\n",
       "    .dataframe tbody tr th:only-of-type {\n",
       "        vertical-align: middle;\n",
       "    }\n",
       "\n",
       "    .dataframe tbody tr th {\n",
       "        vertical-align: top;\n",
       "    }\n",
       "\n",
       "    .dataframe thead th {\n",
       "        text-align: right;\n",
       "    }\n",
       "</style>\n",
       "<table border=\"1\" class=\"dataframe\">\n",
       "  <thead>\n",
       "    <tr style=\"text-align: right;\">\n",
       "      <th></th>\n",
       "      <th>섬유의복</th>\n",
       "      <th>화학</th>\n",
       "      <th>의약품</th>\n",
       "      <th>전기전자</th>\n",
       "      <th>의료정밀</th>\n",
       "      <th>은행</th>\n",
       "    </tr>\n",
       "  </thead>\n",
       "  <tbody>\n",
       "    <tr>\n",
       "      <th>0</th>\n",
       "      <td>4</td>\n",
       "      <td>5215</td>\n",
       "      <td>4733</td>\n",
       "      <td>929</td>\n",
       "      <td>383</td>\n",
       "      <td>1</td>\n",
       "    </tr>\n",
       "  </tbody>\n",
       "</table>\n",
       "</div>"
      ],
      "text/plain": [
       "   섬유의복    화학   의약품  전기전자  의료정밀  은행\n",
       "0     4  5215  4733   929   383   1"
      ]
     },
     "execution_count": 320,
     "metadata": {},
     "output_type": "execute_result"
    }
   ],
   "source": [
    "pd.DataFrame.from_dict(data = solution[0][0], orient='index', dtype='int').T"
   ]
  },
  {
   "cell_type": "code",
   "execution_count": null,
   "metadata": {},
   "outputs": [],
   "source": []
  }
 ],
 "metadata": {
  "kernelspec": {
   "display_name": "version_test",
   "language": "python",
   "name": "python3"
  },
  "language_info": {
   "codemirror_mode": {
    "name": "ipython",
    "version": 3
   },
   "file_extension": ".py",
   "mimetype": "text/x-python",
   "name": "python",
   "nbconvert_exporter": "python",
   "pygments_lexer": "ipython3",
   "version": "3.7.15"
  },
  "orig_nbformat": 4,
  "vscode": {
   "interpreter": {
    "hash": "cfe135afd72bafd3529fdb2d5bee25c98d4b633c63039531eadf892df31ba1d4"
   }
  }
 },
 "nbformat": 4,
 "nbformat_minor": 2
}
